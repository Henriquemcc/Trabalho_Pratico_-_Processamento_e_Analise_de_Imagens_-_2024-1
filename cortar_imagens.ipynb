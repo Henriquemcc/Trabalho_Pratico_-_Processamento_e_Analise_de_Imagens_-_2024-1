{
 "cells": [
  {
   "cell_type": "markdown",
   "metadata": {},
   "source": [
    "# Trabalho Prático"
   ]
  },
  {
   "cell_type": "markdown",
   "metadata": {},
   "source": [
    "# 1ª etapa"
   ]
  },
  {
   "cell_type": "markdown",
   "metadata": {},
   "source": [
    "Recortando as imagens"
   ]
  },
  {
   "cell_type": "code",
   "execution_count": null,
   "metadata": {},
   "outputs": [],
   "source": [
    "!pip install pandas\n",
    "!pip install numpy\n",
    "!pip install Pillow"
   ]
  },
  {
   "cell_type": "code",
   "execution_count": null,
   "metadata": {},
   "outputs": [],
   "source": [
    "import pandas\n",
    "import os\n",
    "import PIL.Image"
   ]
  },
  {
   "cell_type": "code",
   "execution_count": null,
   "metadata": {},
   "outputs": [],
   "source": [
    "data_frame = pandas.read_csv(\"classifications.csv\")"
   ]
  },
  {
   "cell_type": "code",
   "execution_count": null,
   "metadata": {},
   "outputs": [],
   "source": [
    "data_frame.sort(\"image_filename\")\n",
    "data_frame"
   ]
  },
  {
   "cell_type": "code",
   "execution_count": null,
   "metadata": {},
   "outputs": [],
   "source": [
    "data_set_dir = os.path.join(os.getcwd(), \"dataset\")"
   ]
  },
  {
   "cell_type": "code",
   "execution_count": null,
   "metadata": {},
   "outputs": [],
   "source": [
    "destination_image_dir = os.path.join(os.getcwd(), \"dataset_converted\")"
   ]
  },
  {
   "cell_type": "code",
   "execution_count": null,
   "metadata": {},
   "outputs": [],
   "source": [
    "if not os.path.exists(destination_image_dir):\n",
    "    os.mkdir(destination_image_dir)"
   ]
  },
  {
   "cell_type": "code",
   "execution_count": null,
   "metadata": {},
   "outputs": [],
   "source": [
    "for index, row in data_frame.iterrows():\n",
    "\n",
    "    source_image_path = os.path.join(data_set_dir, row['image_filename'])\n",
    "\n",
    "    classe = row['bethesda_system']\n",
    "    diretorio_classe = os.path.join(destination_image_dir, classe)\n",
    "    if not os.path.exists(diretorio_classe):\n",
    "        os.mkdir(diretorio_classe)\n",
    "    \n",
    "    destination_image_path = os.path.join(diretorio_classe, \"{}.png\".format(row['cell_id']))\n",
    "    \n",
    "    if os.path.exists(source_image_path):\n",
    "        with PIL.Image.open(source_image_path) as image:\n",
    "            esquerda = row['nucleus_x'] - 50\n",
    "            direita = row['nucleus_x'] + 50\n",
    "            inferior = row['nucleus_y'] - 50\n",
    "            superior = row['nucleus_y'] + 50\n",
    "            cropped_image = image.crop((esquerda, inferior, direita, superior))\n",
    "            cropped_image.save(destination_image_path) \n",
    "    "
   ]
  }
 ],
 "metadata": {
  "kernelspec": {
   "display_name": "Python 3 (ipykernel)",
   "language": "python",
   "name": "python3"
  },
  "language_info": {
   "codemirror_mode": {
    "name": "ipython",
    "version": 3
   },
   "file_extension": ".py",
   "mimetype": "text/x-python",
   "name": "python",
   "nbconvert_exporter": "python",
   "pygments_lexer": "ipython3",
   "version": "3.10.12"
  }
 },
 "nbformat": 4,
 "nbformat_minor": 4
}
