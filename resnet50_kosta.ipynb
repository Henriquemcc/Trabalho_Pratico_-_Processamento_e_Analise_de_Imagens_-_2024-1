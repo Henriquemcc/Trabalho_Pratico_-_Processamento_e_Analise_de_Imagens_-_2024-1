{
 "cells": [
  {
   "cell_type": "code",
   "execution_count": null,
   "id": "e08ce428-314b-4086-83cf-785e7ac524db",
   "metadata": {},
   "outputs": [],
   "source": [
    "import os\n",
    "import pandas as pd\n",
    "import numpy as np\n",
    "from PIL import Image\n",
    "import cv2\n",
    "import tensorflow as tf\n",
    "from tensorflow.keras.applications import ResNet50\n",
    "from tensorflow.keras.applications.resnet50 import preprocess_input\n",
    "from tensorflow.keras.preprocessing.image import ImageDataGenerator\n",
    "from tensorflow.keras.models import Model\n",
    "from tensorflow.keras.layers import Dense, GlobalAveragePooling2D\n",
    "from tensorflow.keras.optimizers import Adam\n",
    "from tensorflow.keras.utils import to_categorical\n",
    "from sklearn.model_selection import train_test_split\n",
    "import random\n",
    "import joblib"
   ]
  },
  {
   "cell_type": "code",
   "execution_count": null,
   "id": "dec86d12-7a24-45fd-8cb5-e33d1be12b5f",
   "metadata": {},
   "outputs": [],
   "source": [
    "# Caminho das imagens e classificações\n",
    "images_path = 'dataset_converted'\n",
    "\n",
    "# DataFrame inicial\n",
    "df = pd.DataFrame(columns=['path', 'classification'])\n",
    "classification_label = []"
   ]
  },
  {
   "cell_type": "code",
   "execution_count": null,
   "id": "067c4f7e",
   "metadata": {},
   "outputs": [],
   "source": [
    "# Carregar caminhos de imagens e classificações\n",
    "for f_number, folder in enumerate(os.listdir(images_path)):\n",
    "    folder_path = os.path.join(images_path, folder)\n",
    "    classification_label.append(folder)\n",
    "    for image in os.listdir(folder_path):\n",
    "        image_path = os.path.join(folder_path, image)\n",
    "        df.loc[0 if pd.isnull(df.index.max()) else df.index.max() + 1] = [image_path, f_number]"
   ]
  },
  {
   "cell_type": "code",
   "execution_count": null,
   "id": "7e0e92ac",
   "metadata": {},
   "outputs": [],
   "source": [
    "# Verificar se o DataFrame não está vazio\n",
    "if df.empty:\n",
    "    raise ValueError(\"O DataFrame está vazio. Verifique o carregamento das imagens.\")"
   ]
  },
  {
   "cell_type": "code",
   "execution_count": null,
   "id": "e53a3d88-2c54-411a-9a5a-d49f0146e705",
   "metadata": {},
   "outputs": [],
   "source": [
    "# Função para carregar e pré-processar a imagem\n",
    "def preprocess_image(image_path):\n",
    "    # Carregar a imagem e redimensionar para o tamanho esperado pela ResNet50\n",
    "    image = np.array(Image.open(image_path).convert('RGB').resize((224, 224)))\n",
    "    # Pré-processar a imagem de acordo com o ResNet50\n",
    "    image = preprocess_input(image)\n",
    "    return image"
   ]
  },
  {
   "cell_type": "code",
   "execution_count": null,
   "id": "ccd2ff4c-5710-428a-9ae6-fd32752e0c27",
   "metadata": {},
   "outputs": [],
   "source": [
    "# Aplicar o pré-processamento a todas as imagens\n",
    "df['image'] = df['path'].apply(preprocess_image)"
   ]
  },
  {
   "cell_type": "code",
   "execution_count": null,
   "id": "6c958216",
   "metadata": {},
   "outputs": [],
   "source": [
    "# Verificar se as imagens foram processadas corretamente\n",
    "if df['image'].isnull().any():\n",
    "    raise ValueError(\"Existem imagens não processadas. Verifique o pré-processamento.\")"
   ]
  },
  {
   "cell_type": "code",
   "execution_count": null,
   "id": "b5759c9c-5a5a-42e1-a239-b0a481242fcb",
   "metadata": {},
   "outputs": [],
   "source": [
    "# Converter a coluna 'image' para uma lista de arrays\n",
    "X = np.array(df['image'].tolist(), dtype=np.float32)"
   ]
  },
  {
   "cell_type": "code",
   "execution_count": null,
   "id": "ea4cbba6",
   "metadata": {},
   "outputs": [],
   "source": [
    "# Verificar se as classificações estão corretas\n",
    "if df['classification'].isnull().any():\n",
    "    raise ValueError(\"Existem classificações faltantes. Verifique os dados de entrada.\")"
   ]
  },
  {
   "cell_type": "code",
   "execution_count": null,
   "id": "8922a1d1",
   "metadata": {},
   "outputs": [],
   "source": [
    "# Converter classificações para one-hot encoding\n",
    "y = to_categorical(df['classification'], num_classes=len(classification_label))"
   ]
  },
  {
   "cell_type": "code",
   "execution_count": null,
   "id": "ec074a3b",
   "metadata": {},
   "outputs": [],
   "source": [
    "# Verificação adicional\n",
    "print(f\"Shape of X: {X.shape}\")\n",
    "print(f\"Shape of y: {y.shape}\")\n",
    "print(f\"Data type of X: {X.dtype}\")\n",
    "print(f\"Data type of y: {y.dtype}\")"
   ]
  },
  {
   "cell_type": "code",
   "execution_count": null,
   "id": "b962476e",
   "metadata": {},
   "outputs": [],
   "source": [
    "# Separar os dados em conjuntos de treino e teste\n",
    "X_train, X_test, y_train, y_test = train_test_split(X, y, test_size=0.2, random_state=42)"
   ]
  },
  {
   "cell_type": "code",
   "execution_count": null,
   "id": "fd3c4a0e",
   "metadata": {},
   "outputs": [],
   "source": [
    "# Construir o modelo ResNet50\n",
    "base_model = ResNet50(weights='imagenet', include_top=False)"
   ]
  },
  {
   "cell_type": "code",
   "execution_count": null,
   "id": "4f80226f-2e9b-4014-9101-eba97e77f164",
   "metadata": {},
   "outputs": [],
   "source": [
    "# Adicionar camadas personalizadas ao modelo\n",
    "x = base_model.output\n",
    "x = GlobalAveragePooling2D()(x)\n",
    "x = Dense(1024, activation='relu')(x)\n",
    "predictions = Dense(len(classification_label), activation='softmax')(x)"
   ]
  },
  {
   "cell_type": "code",
   "execution_count": null,
   "id": "89a00ffb",
   "metadata": {},
   "outputs": [],
   "source": [
    "# Definir o modelo completo\n",
    "model = Model(inputs=base_model.input, outputs=predictions)"
   ]
  },
  {
   "cell_type": "code",
   "execution_count": null,
   "id": "fa322956-b931-4b77-b779-db725c72bd6a",
   "metadata": {},
   "outputs": [],
   "source": [
    "# Congelar as camadas da base_model\n",
    "for layer in base_model.layers:\n",
    "    layer.trainable = False"
   ]
  },
  {
   "cell_type": "code",
   "execution_count": null,
   "id": "ec448f3d-25a6-4850-9e26-876b970dd38f",
   "metadata": {},
   "outputs": [],
   "source": [
    "# Compilar o modelo\n",
    "model.compile(optimizer=Adam(), loss='categorical_crossentropy', metrics=['accuracy'])"
   ]
  },
  {
   "cell_type": "markdown",
   "id": "2d8d6153-1820-4534-b6a0-6a905987d7b7",
   "metadata": {},
   "source": [
    "# Treinar o modelo resnet50"
   ]
  },
  {
   "cell_type": "code",
   "execution_count": null,
   "id": "2709f1eb-74ea-4eb9-a371-1c66161a96a5",
   "metadata": {},
   "outputs": [],
   "source": [
    "# Treinar o modelo\n",
    "model.fit(X_train, y_train, epochs=10, batch_size=32, validation_data=(X_test, y_test))"
   ]
  },
  {
   "cell_type": "code",
   "execution_count": null,
   "id": "07c63143-b599-4ab6-80bd-f941f8191057",
   "metadata": {},
   "outputs": [],
   "source": [
    "# Avaliar o modelo no conjunto de teste\n",
    "accuracy = model.evaluate(X_test, y_test)\n",
    "print(f\"Acurácia no conjunto de teste: {accuracy[1]:.2f}\")"
   ]
  },
  {
   "cell_type": "code",
   "execution_count": null,
   "id": "89de1d23-b028-4a82-90f0-a866cd7cb11a",
   "metadata": {},
   "outputs": [],
   "source": [
    "# Salvar o modelo treinado em um arquivo\n",
    "model.save('modelo_resnet50.h5')\n",
    "model.save_weights('pesos_resnet50.weights.h5')"
   ]
  },
  {
   "cell_type": "code",
   "execution_count": null,
   "id": "131adbf5-f54f-44fc-b145-257370af051a",
   "metadata": {},
   "outputs": [],
   "source": [
    "# Carregar o modelo treinado a partir do arquivo\n",
    "modelo_carregado = tf.keras.models.load_model('modelo_resnet50.h5')\n"
   ]
  },
  {
   "cell_type": "code",
   "execution_count": null,
   "id": "be331251",
   "metadata": {},
   "outputs": [],
   "source": [
    "# Avaliar o modelo carregado no conjunto de teste\n",
    "accuracy = modelo_carregado.evaluate(X_test, y_test)\n",
    "print(f\"Acurácia no conjunto de teste após carregar: {accuracy[1]:.2f}\")"
   ]
  }
 ],
 "metadata": {
  "kernelspec": {
   "display_name": "Python 3 (ipykernel)",
   "language": "python",
   "name": "python3"
  },
  "language_info": {
   "codemirror_mode": {
    "name": "ipython",
    "version": 3
   },
   "file_extension": ".py",
   "mimetype": "text/x-python",
   "name": "python",
   "nbconvert_exporter": "python",
   "pygments_lexer": "ipython3",
   "version": "3.12.3"
  }
 },
 "nbformat": 4,
 "nbformat_minor": 5
}
