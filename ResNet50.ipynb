{
 "cells": [
  {
   "cell_type": "markdown",
   "metadata": {},
   "source": [
    "# ResNet50"
   ]
  },
  {
   "cell_type": "markdown",
   "metadata": {},
   "source": [
    "Instalando requisitos"
   ]
  },
  {
   "cell_type": "code",
   "execution_count": 1,
   "metadata": {
    "ExecuteTime": {
     "end_time": "2024-05-27T22:07:27.369378Z",
     "start_time": "2024-05-27T22:07:11.311269Z"
    }
   },
   "outputs": [
    {
     "name": "stdout",
     "output_type": "stream",
     "text": [
      "Note: you may need to restart the kernel to use updated packages.\n",
      "Note: you may need to restart the kernel to use updated packages.\n",
      "Note: you may need to restart the kernel to use updated packages.\n",
      "Note: you may need to restart the kernel to use updated packages.\n",
      "Note: you may need to restart the kernel to use updated packages.\n"
     ]
    }
   ],
   "source": [
    "%pip install -r ./requirements.txt -q\n",
    "%pip install pandas -q\n",
    "%pip install scikit-learn -q\n",
    "%pip install tensorflow -q\n",
    "%pip install numpy -q"
   ]
  },
  {
   "cell_type": "markdown",
   "metadata": {},
   "source": [
    "Importando requisitos"
   ]
  },
  {
   "cell_type": "code",
   "execution_count": 2,
   "metadata": {
    "ExecuteTime": {
     "end_time": "2024-05-27T22:07:32.150174Z",
     "start_time": "2024-05-27T22:07:27.372735Z"
    }
   },
   "outputs": [],
   "source": [
    "from app.modelo.imagem_rgb import ImagemRGB\n",
    "import sklearn.model_selection\n",
    "import sklearn.preprocessing\n",
    "import pandas\n",
    "import tensorflow\n",
    "import os\n",
    "import numpy\n",
    "import pickle\n",
    "import random\n",
    "import tensorflow.keras.preprocessing\n",
    "import tensorflow.keras.applications.resnet50\n",
    "import tensorflow.keras.models\n",
    "import tensorflow.keras.layers"
   ]
  },
  {
   "cell_type": "markdown",
   "metadata": {},
   "source": [
    "Definindo variáveis"
   ]
  },
  {
   "cell_type": "code",
   "execution_count": 3,
   "metadata": {},
   "outputs": [],
   "source": [
    "image_directory = os.path.join(os.getcwd(), 'dataset_converted')\n",
    "num_classes = 6"
   ]
  },
  {
   "cell_type": "markdown",
   "metadata": {},
   "source": [
    "Abrindo base de dados"
   ]
  },
  {
   "cell_type": "code",
   "execution_count": 4,
   "metadata": {
    "ExecuteTime": {
     "end_time": "2024-05-27T22:07:32.178614Z",
     "start_time": "2024-05-27T22:07:32.152120Z"
    }
   },
   "outputs": [],
   "source": [
    "data_frame = pandas.read_csv(\"classifications.csv\")"
   ]
  },
  {
   "cell_type": "markdown",
   "metadata": {},
   "source": [
    "Adicionando coluna path"
   ]
  },
  {
   "cell_type": "code",
   "execution_count": 5,
   "metadata": {},
   "outputs": [],
   "source": [
    "for index, row in data_frame.iterrows():\n",
    "    data_frame.at[index, 'path'] = os.path.join(image_directory, row['bethesda_system'], \"{}.png\".format(row['cell_id']))"
   ]
  },
  {
   "cell_type": "code",
   "execution_count": 6,
   "metadata": {},
   "outputs": [
    {
     "data": {
      "text/html": [
       "<div>\n",
       "<style scoped>\n",
       "    .dataframe tbody tr th:only-of-type {\n",
       "        vertical-align: middle;\n",
       "    }\n",
       "\n",
       "    .dataframe tbody tr th {\n",
       "        vertical-align: top;\n",
       "    }\n",
       "\n",
       "    .dataframe thead th {\n",
       "        text-align: right;\n",
       "    }\n",
       "</style>\n",
       "<table border=\"1\" class=\"dataframe\">\n",
       "  <thead>\n",
       "    <tr style=\"text-align: right;\">\n",
       "      <th></th>\n",
       "      <th>image_id</th>\n",
       "      <th>image_filename</th>\n",
       "      <th>image_doi</th>\n",
       "      <th>cell_id</th>\n",
       "      <th>bethesda_system</th>\n",
       "      <th>nucleus_x</th>\n",
       "      <th>nucleus_y</th>\n",
       "      <th>path</th>\n",
       "    </tr>\n",
       "  </thead>\n",
       "  <tbody>\n",
       "    <tr>\n",
       "      <th>0</th>\n",
       "      <td>400</td>\n",
       "      <td>9ae8a4edde40219bad6303cebc672ee4.png</td>\n",
       "      <td>10.6084/m9.figshare.12230906</td>\n",
       "      <td>1</td>\n",
       "      <td>SCC</td>\n",
       "      <td>792</td>\n",
       "      <td>462</td>\n",
       "      <td>c:\\Users\\henrique\\Trabalho_Pratico_-_Processam...</td>\n",
       "    </tr>\n",
       "    <tr>\n",
       "      <th>1</th>\n",
       "      <td>400</td>\n",
       "      <td>9ae8a4edde40219bad6303cebc672ee4.png</td>\n",
       "      <td>10.6084/m9.figshare.12230906</td>\n",
       "      <td>2</td>\n",
       "      <td>SCC</td>\n",
       "      <td>601</td>\n",
       "      <td>678</td>\n",
       "      <td>c:\\Users\\henrique\\Trabalho_Pratico_-_Processam...</td>\n",
       "    </tr>\n",
       "    <tr>\n",
       "      <th>2</th>\n",
       "      <td>400</td>\n",
       "      <td>9ae8a4edde40219bad6303cebc672ee4.png</td>\n",
       "      <td>10.6084/m9.figshare.12230906</td>\n",
       "      <td>3</td>\n",
       "      <td>SCC</td>\n",
       "      <td>363</td>\n",
       "      <td>467</td>\n",
       "      <td>c:\\Users\\henrique\\Trabalho_Pratico_-_Processam...</td>\n",
       "    </tr>\n",
       "    <tr>\n",
       "      <th>3</th>\n",
       "      <td>400</td>\n",
       "      <td>9ae8a4edde40219bad6303cebc672ee4.png</td>\n",
       "      <td>10.6084/m9.figshare.12230906</td>\n",
       "      <td>4</td>\n",
       "      <td>SCC</td>\n",
       "      <td>599</td>\n",
       "      <td>437</td>\n",
       "      <td>c:\\Users\\henrique\\Trabalho_Pratico_-_Processam...</td>\n",
       "    </tr>\n",
       "    <tr>\n",
       "      <th>4</th>\n",
       "      <td>400</td>\n",
       "      <td>9ae8a4edde40219bad6303cebc672ee4.png</td>\n",
       "      <td>10.6084/m9.figshare.12230906</td>\n",
       "      <td>5</td>\n",
       "      <td>Negative for intraepithelial lesion</td>\n",
       "      <td>1186</td>\n",
       "      <td>450</td>\n",
       "      <td>c:\\Users\\henrique\\Trabalho_Pratico_-_Processam...</td>\n",
       "    </tr>\n",
       "    <tr>\n",
       "      <th>...</th>\n",
       "      <td>...</td>\n",
       "      <td>...</td>\n",
       "      <td>...</td>\n",
       "      <td>...</td>\n",
       "      <td>...</td>\n",
       "      <td>...</td>\n",
       "      <td>...</td>\n",
       "      <td>...</td>\n",
       "    </tr>\n",
       "    <tr>\n",
       "      <th>11529</th>\n",
       "      <td>1</td>\n",
       "      <td>be340ee72689dfe3f8dc9c24de6127f4.png</td>\n",
       "      <td>10.6084/m9.figshare.12229511</td>\n",
       "      <td>11530</td>\n",
       "      <td>LSIL</td>\n",
       "      <td>618</td>\n",
       "      <td>407</td>\n",
       "      <td>c:\\Users\\henrique\\Trabalho_Pratico_-_Processam...</td>\n",
       "    </tr>\n",
       "    <tr>\n",
       "      <th>11530</th>\n",
       "      <td>1</td>\n",
       "      <td>be340ee72689dfe3f8dc9c24de6127f4.png</td>\n",
       "      <td>10.6084/m9.figshare.12229511</td>\n",
       "      <td>11531</td>\n",
       "      <td>LSIL</td>\n",
       "      <td>607</td>\n",
       "      <td>374</td>\n",
       "      <td>c:\\Users\\henrique\\Trabalho_Pratico_-_Processam...</td>\n",
       "    </tr>\n",
       "    <tr>\n",
       "      <th>11531</th>\n",
       "      <td>1</td>\n",
       "      <td>be340ee72689dfe3f8dc9c24de6127f4.png</td>\n",
       "      <td>10.6084/m9.figshare.12229511</td>\n",
       "      <td>11532</td>\n",
       "      <td>LSIL</td>\n",
       "      <td>707</td>\n",
       "      <td>251</td>\n",
       "      <td>c:\\Users\\henrique\\Trabalho_Pratico_-_Processam...</td>\n",
       "    </tr>\n",
       "    <tr>\n",
       "      <th>11532</th>\n",
       "      <td>1</td>\n",
       "      <td>be340ee72689dfe3f8dc9c24de6127f4.png</td>\n",
       "      <td>10.6084/m9.figshare.12229511</td>\n",
       "      <td>11533</td>\n",
       "      <td>LSIL</td>\n",
       "      <td>579</td>\n",
       "      <td>246</td>\n",
       "      <td>c:\\Users\\henrique\\Trabalho_Pratico_-_Processam...</td>\n",
       "    </tr>\n",
       "    <tr>\n",
       "      <th>11533</th>\n",
       "      <td>1</td>\n",
       "      <td>be340ee72689dfe3f8dc9c24de6127f4.png</td>\n",
       "      <td>10.6084/m9.figshare.12229511</td>\n",
       "      <td>11534</td>\n",
       "      <td>Negative for intraepithelial lesion</td>\n",
       "      <td>227</td>\n",
       "      <td>130</td>\n",
       "      <td>c:\\Users\\henrique\\Trabalho_Pratico_-_Processam...</td>\n",
       "    </tr>\n",
       "  </tbody>\n",
       "</table>\n",
       "<p>11534 rows × 8 columns</p>\n",
       "</div>"
      ],
      "text/plain": [
       "       image_id                        image_filename  \\\n",
       "0           400  9ae8a4edde40219bad6303cebc672ee4.png   \n",
       "1           400  9ae8a4edde40219bad6303cebc672ee4.png   \n",
       "2           400  9ae8a4edde40219bad6303cebc672ee4.png   \n",
       "3           400  9ae8a4edde40219bad6303cebc672ee4.png   \n",
       "4           400  9ae8a4edde40219bad6303cebc672ee4.png   \n",
       "...         ...                                   ...   \n",
       "11529         1  be340ee72689dfe3f8dc9c24de6127f4.png   \n",
       "11530         1  be340ee72689dfe3f8dc9c24de6127f4.png   \n",
       "11531         1  be340ee72689dfe3f8dc9c24de6127f4.png   \n",
       "11532         1  be340ee72689dfe3f8dc9c24de6127f4.png   \n",
       "11533         1  be340ee72689dfe3f8dc9c24de6127f4.png   \n",
       "\n",
       "                          image_doi  cell_id  \\\n",
       "0      10.6084/m9.figshare.12230906        1   \n",
       "1      10.6084/m9.figshare.12230906        2   \n",
       "2      10.6084/m9.figshare.12230906        3   \n",
       "3      10.6084/m9.figshare.12230906        4   \n",
       "4      10.6084/m9.figshare.12230906        5   \n",
       "...                             ...      ...   \n",
       "11529  10.6084/m9.figshare.12229511    11530   \n",
       "11530  10.6084/m9.figshare.12229511    11531   \n",
       "11531  10.6084/m9.figshare.12229511    11532   \n",
       "11532  10.6084/m9.figshare.12229511    11533   \n",
       "11533  10.6084/m9.figshare.12229511    11534   \n",
       "\n",
       "                           bethesda_system  nucleus_x  nucleus_y  \\\n",
       "0                                      SCC        792        462   \n",
       "1                                      SCC        601        678   \n",
       "2                                      SCC        363        467   \n",
       "3                                      SCC        599        437   \n",
       "4      Negative for intraepithelial lesion       1186        450   \n",
       "...                                    ...        ...        ...   \n",
       "11529                                 LSIL        618        407   \n",
       "11530                                 LSIL        607        374   \n",
       "11531                                 LSIL        707        251   \n",
       "11532                                 LSIL        579        246   \n",
       "11533  Negative for intraepithelial lesion        227        130   \n",
       "\n",
       "                                                    path  \n",
       "0      c:\\Users\\henrique\\Trabalho_Pratico_-_Processam...  \n",
       "1      c:\\Users\\henrique\\Trabalho_Pratico_-_Processam...  \n",
       "2      c:\\Users\\henrique\\Trabalho_Pratico_-_Processam...  \n",
       "3      c:\\Users\\henrique\\Trabalho_Pratico_-_Processam...  \n",
       "4      c:\\Users\\henrique\\Trabalho_Pratico_-_Processam...  \n",
       "...                                                  ...  \n",
       "11529  c:\\Users\\henrique\\Trabalho_Pratico_-_Processam...  \n",
       "11530  c:\\Users\\henrique\\Trabalho_Pratico_-_Processam...  \n",
       "11531  c:\\Users\\henrique\\Trabalho_Pratico_-_Processam...  \n",
       "11532  c:\\Users\\henrique\\Trabalho_Pratico_-_Processam...  \n",
       "11533  c:\\Users\\henrique\\Trabalho_Pratico_-_Processam...  \n",
       "\n",
       "[11534 rows x 8 columns]"
      ]
     },
     "execution_count": 6,
     "metadata": {},
     "output_type": "execute_result"
    }
   ],
   "source": [
    "data_frame"
   ]
  },
  {
   "cell_type": "markdown",
   "metadata": {},
   "source": [
    "Adicionando coluna random e ordenando por meio dela"
   ]
  },
  {
   "cell_type": "code",
   "execution_count": 7,
   "metadata": {
    "ExecuteTime": {
     "end_time": "2024-05-27T22:07:32.206294Z",
     "start_time": "2024-05-27T22:07:32.182697Z"
    }
   },
   "outputs": [],
   "source": [
    "data_frame['random'] = data_frame[data_frame.columns[0]].apply(lambda _: random.random())"
   ]
  },
  {
   "cell_type": "code",
   "execution_count": 8,
   "metadata": {},
   "outputs": [],
   "source": [
    "data_frame.sort_values(\n",
    "    by='random',\n",
    "    inplace=True\n",
    ")"
   ]
  },
  {
   "cell_type": "markdown",
   "metadata": {},
   "source": [
    "Removendo imagens que não existem"
   ]
  },
  {
   "cell_type": "code",
   "execution_count": 9,
   "metadata": {},
   "outputs": [],
   "source": [
    "for index, row in data_frame.iterrows():\n",
    "    if not os.path.exists(row['path']):\n",
    "        data_frame.drop(index, inplace=True)"
   ]
  },
  {
   "cell_type": "code",
   "execution_count": 10,
   "metadata": {},
   "outputs": [
    {
     "data": {
      "text/html": [
       "<div>\n",
       "<style scoped>\n",
       "    .dataframe tbody tr th:only-of-type {\n",
       "        vertical-align: middle;\n",
       "    }\n",
       "\n",
       "    .dataframe tbody tr th {\n",
       "        vertical-align: top;\n",
       "    }\n",
       "\n",
       "    .dataframe thead th {\n",
       "        text-align: right;\n",
       "    }\n",
       "</style>\n",
       "<table border=\"1\" class=\"dataframe\">\n",
       "  <thead>\n",
       "    <tr style=\"text-align: right;\">\n",
       "      <th></th>\n",
       "      <th>image_id</th>\n",
       "      <th>image_filename</th>\n",
       "      <th>image_doi</th>\n",
       "      <th>cell_id</th>\n",
       "      <th>bethesda_system</th>\n",
       "      <th>nucleus_x</th>\n",
       "      <th>nucleus_y</th>\n",
       "      <th>path</th>\n",
       "      <th>random</th>\n",
       "    </tr>\n",
       "  </thead>\n",
       "  <tbody>\n",
       "    <tr>\n",
       "      <th>5077</th>\n",
       "      <td>199</td>\n",
       "      <td>5ebaeeae59a5bc5ca0d79d99cb4dcac1.png</td>\n",
       "      <td>10.6084/m9.figshare.12230219</td>\n",
       "      <td>5078</td>\n",
       "      <td>Negative for intraepithelial lesion</td>\n",
       "      <td>1115</td>\n",
       "      <td>978</td>\n",
       "      <td>c:\\Users\\henrique\\Trabalho_Pratico_-_Processam...</td>\n",
       "      <td>0.000337</td>\n",
       "    </tr>\n",
       "    <tr>\n",
       "      <th>5120</th>\n",
       "      <td>195</td>\n",
       "      <td>a7b7d4eb6367ad432a806b5662ff44e0.png</td>\n",
       "      <td>10.6084/m9.figshare.12230204</td>\n",
       "      <td>5121</td>\n",
       "      <td>Negative for intraepithelial lesion</td>\n",
       "      <td>1172</td>\n",
       "      <td>397</td>\n",
       "      <td>c:\\Users\\henrique\\Trabalho_Pratico_-_Processam...</td>\n",
       "      <td>0.001105</td>\n",
       "    </tr>\n",
       "    <tr>\n",
       "      <th>11030</th>\n",
       "      <td>18</td>\n",
       "      <td>3659bf68aeea760b319cd0710e3651fb.png</td>\n",
       "      <td>10.6084/m9.figshare.12229577</td>\n",
       "      <td>11031</td>\n",
       "      <td>Negative for intraepithelial lesion</td>\n",
       "      <td>419</td>\n",
       "      <td>1000</td>\n",
       "      <td>c:\\Users\\henrique\\Trabalho_Pratico_-_Processam...</td>\n",
       "      <td>0.001230</td>\n",
       "    </tr>\n",
       "    <tr>\n",
       "      <th>10825</th>\n",
       "      <td>25</td>\n",
       "      <td>f981c4aac622d7cce71a81305dd38ade.png</td>\n",
       "      <td>10.6084/m9.figshare.12229598</td>\n",
       "      <td>10826</td>\n",
       "      <td>Negative for intraepithelial lesion</td>\n",
       "      <td>1145</td>\n",
       "      <td>774</td>\n",
       "      <td>c:\\Users\\henrique\\Trabalho_Pratico_-_Processam...</td>\n",
       "      <td>0.001232</td>\n",
       "    </tr>\n",
       "    <tr>\n",
       "      <th>5076</th>\n",
       "      <td>199</td>\n",
       "      <td>5ebaeeae59a5bc5ca0d79d99cb4dcac1.png</td>\n",
       "      <td>10.6084/m9.figshare.12230219</td>\n",
       "      <td>5077</td>\n",
       "      <td>Negative for intraepithelial lesion</td>\n",
       "      <td>813</td>\n",
       "      <td>876</td>\n",
       "      <td>c:\\Users\\henrique\\Trabalho_Pratico_-_Processam...</td>\n",
       "      <td>0.001416</td>\n",
       "    </tr>\n",
       "    <tr>\n",
       "      <th>...</th>\n",
       "      <td>...</td>\n",
       "      <td>...</td>\n",
       "      <td>...</td>\n",
       "      <td>...</td>\n",
       "      <td>...</td>\n",
       "      <td>...</td>\n",
       "      <td>...</td>\n",
       "      <td>...</td>\n",
       "      <td>...</td>\n",
       "    </tr>\n",
       "    <tr>\n",
       "      <th>3997</th>\n",
       "      <td>249</td>\n",
       "      <td>bd7e1530680d11547db567150fa7c403.png</td>\n",
       "      <td>10.6084/m9.figshare.12230396</td>\n",
       "      <td>3998</td>\n",
       "      <td>Negative for intraepithelial lesion</td>\n",
       "      <td>364</td>\n",
       "      <td>424</td>\n",
       "      <td>c:\\Users\\henrique\\Trabalho_Pratico_-_Processam...</td>\n",
       "      <td>0.999346</td>\n",
       "    </tr>\n",
       "    <tr>\n",
       "      <th>6537</th>\n",
       "      <td>135</td>\n",
       "      <td>8d62bc0267b58954ef9fa8e355d6ec22.png</td>\n",
       "      <td>10.6084/m9.figshare.12230006</td>\n",
       "      <td>6538</td>\n",
       "      <td>Negative for intraepithelial lesion</td>\n",
       "      <td>504</td>\n",
       "      <td>685</td>\n",
       "      <td>c:\\Users\\henrique\\Trabalho_Pratico_-_Processam...</td>\n",
       "      <td>0.999892</td>\n",
       "    </tr>\n",
       "    <tr>\n",
       "      <th>3793</th>\n",
       "      <td>256</td>\n",
       "      <td>8932ac9bf855b72eef7390e7e486133e.png</td>\n",
       "      <td>10.6084/m9.figshare.12230423</td>\n",
       "      <td>3794</td>\n",
       "      <td>Negative for intraepithelial lesion</td>\n",
       "      <td>1017</td>\n",
       "      <td>703</td>\n",
       "      <td>c:\\Users\\henrique\\Trabalho_Pratico_-_Processam...</td>\n",
       "      <td>0.999929</td>\n",
       "    </tr>\n",
       "    <tr>\n",
       "      <th>7337</th>\n",
       "      <td>114</td>\n",
       "      <td>624930d9bfc4219ba1bdd73ea3fed13b.png</td>\n",
       "      <td>10.6084/m9.figshare.12229913</td>\n",
       "      <td>7338</td>\n",
       "      <td>Negative for intraepithelial lesion</td>\n",
       "      <td>173</td>\n",
       "      <td>1000</td>\n",
       "      <td>c:\\Users\\henrique\\Trabalho_Pratico_-_Processam...</td>\n",
       "      <td>0.999940</td>\n",
       "    </tr>\n",
       "    <tr>\n",
       "      <th>6841</th>\n",
       "      <td>128</td>\n",
       "      <td>cef1983c1bb8c0d9eb60efe03cfb3582.png</td>\n",
       "      <td>10.6084/m9.figshare.12229979</td>\n",
       "      <td>6842</td>\n",
       "      <td>Negative for intraepithelial lesion</td>\n",
       "      <td>269</td>\n",
       "      <td>313</td>\n",
       "      <td>c:\\Users\\henrique\\Trabalho_Pratico_-_Processam...</td>\n",
       "      <td>0.999986</td>\n",
       "    </tr>\n",
       "  </tbody>\n",
       "</table>\n",
       "<p>5581 rows × 9 columns</p>\n",
       "</div>"
      ],
      "text/plain": [
       "       image_id                        image_filename  \\\n",
       "5077        199  5ebaeeae59a5bc5ca0d79d99cb4dcac1.png   \n",
       "5120        195  a7b7d4eb6367ad432a806b5662ff44e0.png   \n",
       "11030        18  3659bf68aeea760b319cd0710e3651fb.png   \n",
       "10825        25  f981c4aac622d7cce71a81305dd38ade.png   \n",
       "5076        199  5ebaeeae59a5bc5ca0d79d99cb4dcac1.png   \n",
       "...         ...                                   ...   \n",
       "3997        249  bd7e1530680d11547db567150fa7c403.png   \n",
       "6537        135  8d62bc0267b58954ef9fa8e355d6ec22.png   \n",
       "3793        256  8932ac9bf855b72eef7390e7e486133e.png   \n",
       "7337        114  624930d9bfc4219ba1bdd73ea3fed13b.png   \n",
       "6841        128  cef1983c1bb8c0d9eb60efe03cfb3582.png   \n",
       "\n",
       "                          image_doi  cell_id  \\\n",
       "5077   10.6084/m9.figshare.12230219     5078   \n",
       "5120   10.6084/m9.figshare.12230204     5121   \n",
       "11030  10.6084/m9.figshare.12229577    11031   \n",
       "10825  10.6084/m9.figshare.12229598    10826   \n",
       "5076   10.6084/m9.figshare.12230219     5077   \n",
       "...                             ...      ...   \n",
       "3997   10.6084/m9.figshare.12230396     3998   \n",
       "6537   10.6084/m9.figshare.12230006     6538   \n",
       "3793   10.6084/m9.figshare.12230423     3794   \n",
       "7337   10.6084/m9.figshare.12229913     7338   \n",
       "6841   10.6084/m9.figshare.12229979     6842   \n",
       "\n",
       "                           bethesda_system  nucleus_x  nucleus_y  \\\n",
       "5077   Negative for intraepithelial lesion       1115        978   \n",
       "5120   Negative for intraepithelial lesion       1172        397   \n",
       "11030  Negative for intraepithelial lesion        419       1000   \n",
       "10825  Negative for intraepithelial lesion       1145        774   \n",
       "5076   Negative for intraepithelial lesion        813        876   \n",
       "...                                    ...        ...        ...   \n",
       "3997   Negative for intraepithelial lesion        364        424   \n",
       "6537   Negative for intraepithelial lesion        504        685   \n",
       "3793   Negative for intraepithelial lesion       1017        703   \n",
       "7337   Negative for intraepithelial lesion        173       1000   \n",
       "6841   Negative for intraepithelial lesion        269        313   \n",
       "\n",
       "                                                    path    random  \n",
       "5077   c:\\Users\\henrique\\Trabalho_Pratico_-_Processam...  0.000337  \n",
       "5120   c:\\Users\\henrique\\Trabalho_Pratico_-_Processam...  0.001105  \n",
       "11030  c:\\Users\\henrique\\Trabalho_Pratico_-_Processam...  0.001230  \n",
       "10825  c:\\Users\\henrique\\Trabalho_Pratico_-_Processam...  0.001232  \n",
       "5076   c:\\Users\\henrique\\Trabalho_Pratico_-_Processam...  0.001416  \n",
       "...                                                  ...       ...  \n",
       "3997   c:\\Users\\henrique\\Trabalho_Pratico_-_Processam...  0.999346  \n",
       "6537   c:\\Users\\henrique\\Trabalho_Pratico_-_Processam...  0.999892  \n",
       "3793   c:\\Users\\henrique\\Trabalho_Pratico_-_Processam...  0.999929  \n",
       "7337   c:\\Users\\henrique\\Trabalho_Pratico_-_Processam...  0.999940  \n",
       "6841   c:\\Users\\henrique\\Trabalho_Pratico_-_Processam...  0.999986  \n",
       "\n",
       "[5581 rows x 9 columns]"
      ]
     },
     "execution_count": 10,
     "metadata": {},
     "output_type": "execute_result"
    }
   ],
   "source": [
    "data_frame"
   ]
  },
  {
   "cell_type": "markdown",
   "metadata": {},
   "source": [
    "Separando o x"
   ]
  },
  {
   "cell_type": "code",
   "execution_count": 11,
   "metadata": {},
   "outputs": [],
   "source": [
    "x = []\n",
    "for index, row in data_frame.iterrows():\n",
    "    x.append(row['path'])\n",
    "x = pandas.array(x)"
   ]
  },
  {
   "cell_type": "code",
   "execution_count": 12,
   "metadata": {},
   "outputs": [
    {
     "data": {
      "text/plain": [
       "<StringArray>\n",
       "[ 'c:\\\\Users\\\\henrique\\\\Trabalho_Pratico_-_Processamento_e_Analise_de_Imagens_-_2024-1\\\\develop_henrique_2024_06_01\\\\develop_henrique_2024_06_01\\\\dataset_converted\\\\Negative for intraepithelial lesion\\\\5078.png',\n",
       "  'c:\\\\Users\\\\henrique\\\\Trabalho_Pratico_-_Processamento_e_Analise_de_Imagens_-_2024-1\\\\develop_henrique_2024_06_01\\\\develop_henrique_2024_06_01\\\\dataset_converted\\\\Negative for intraepithelial lesion\\\\5121.png',\n",
       " 'c:\\\\Users\\\\henrique\\\\Trabalho_Pratico_-_Processamento_e_Analise_de_Imagens_-_2024-1\\\\develop_henrique_2024_06_01\\\\develop_henrique_2024_06_01\\\\dataset_converted\\\\Negative for intraepithelial lesion\\\\11031.png',\n",
       " 'c:\\\\Users\\\\henrique\\\\Trabalho_Pratico_-_Processamento_e_Analise_de_Imagens_-_2024-1\\\\develop_henrique_2024_06_01\\\\develop_henrique_2024_06_01\\\\dataset_converted\\\\Negative for intraepithelial lesion\\\\10826.png',\n",
       "  'c:\\\\Users\\\\henrique\\\\Trabalho_Pratico_-_Processamento_e_Analise_de_Imagens_-_2024-1\\\\develop_henrique_2024_06_01\\\\develop_henrique_2024_06_01\\\\dataset_converted\\\\Negative for intraepithelial lesion\\\\5077.png',\n",
       "  'c:\\\\Users\\\\henrique\\\\Trabalho_Pratico_-_Processamento_e_Analise_de_Imagens_-_2024-1\\\\develop_henrique_2024_06_01\\\\develop_henrique_2024_06_01\\\\dataset_converted\\\\Negative for intraepithelial lesion\\\\7133.png',\n",
       " 'c:\\\\Users\\\\henrique\\\\Trabalho_Pratico_-_Processamento_e_Analise_de_Imagens_-_2024-1\\\\develop_henrique_2024_06_01\\\\develop_henrique_2024_06_01\\\\dataset_converted\\\\Negative for intraepithelial lesion\\\\11354.png',\n",
       "  'c:\\\\Users\\\\henrique\\\\Trabalho_Pratico_-_Processamento_e_Analise_de_Imagens_-_2024-1\\\\develop_henrique_2024_06_01\\\\develop_henrique_2024_06_01\\\\dataset_converted\\\\Negative for intraepithelial lesion\\\\6866.png',\n",
       " 'c:\\\\Users\\\\henrique\\\\Trabalho_Pratico_-_Processamento_e_Analise_de_Imagens_-_2024-1\\\\develop_henrique_2024_06_01\\\\develop_henrique_2024_06_01\\\\dataset_converted\\\\Negative for intraepithelial lesion\\\\10379.png',\n",
       "  'c:\\\\Users\\\\henrique\\\\Trabalho_Pratico_-_Processamento_e_Analise_de_Imagens_-_2024-1\\\\develop_henrique_2024_06_01\\\\develop_henrique_2024_06_01\\\\dataset_converted\\\\Negative for intraepithelial lesion\\\\5021.png',\n",
       " ...\n",
       " 'c:\\\\Users\\\\henrique\\\\Trabalho_Pratico_-_Processamento_e_Analise_de_Imagens_-_2024-1\\\\develop_henrique_2024_06_01\\\\develop_henrique_2024_06_01\\\\dataset_converted\\\\Negative for intraepithelial lesion\\\\10841.png',\n",
       "                                 'c:\\\\Users\\\\henrique\\\\Trabalho_Pratico_-_Processamento_e_Analise_de_Imagens_-_2024-1\\\\develop_henrique_2024_06_01\\\\develop_henrique_2024_06_01\\\\dataset_converted\\\\HSIL\\\\8831.png',\n",
       "                                  'c:\\\\Users\\\\henrique\\\\Trabalho_Pratico_-_Processamento_e_Analise_de_Imagens_-_2024-1\\\\develop_henrique_2024_06_01\\\\develop_henrique_2024_06_01\\\\dataset_converted\\\\LSIL\\\\529.png',\n",
       " 'c:\\\\Users\\\\henrique\\\\Trabalho_Pratico_-_Processamento_e_Analise_de_Imagens_-_2024-1\\\\develop_henrique_2024_06_01\\\\develop_henrique_2024_06_01\\\\dataset_converted\\\\Negative for intraepithelial lesion\\\\10801.png',\n",
       "                               'c:\\\\Users\\\\henrique\\\\Trabalho_Pratico_-_Processamento_e_Analise_de_Imagens_-_2024-1\\\\develop_henrique_2024_06_01\\\\develop_henrique_2024_06_01\\\\dataset_converted\\\\ASC-US\\\\8123.png',\n",
       "  'c:\\\\Users\\\\henrique\\\\Trabalho_Pratico_-_Processamento_e_Analise_de_Imagens_-_2024-1\\\\develop_henrique_2024_06_01\\\\develop_henrique_2024_06_01\\\\dataset_converted\\\\Negative for intraepithelial lesion\\\\3998.png',\n",
       "  'c:\\\\Users\\\\henrique\\\\Trabalho_Pratico_-_Processamento_e_Analise_de_Imagens_-_2024-1\\\\develop_henrique_2024_06_01\\\\develop_henrique_2024_06_01\\\\dataset_converted\\\\Negative for intraepithelial lesion\\\\6538.png',\n",
       "  'c:\\\\Users\\\\henrique\\\\Trabalho_Pratico_-_Processamento_e_Analise_de_Imagens_-_2024-1\\\\develop_henrique_2024_06_01\\\\develop_henrique_2024_06_01\\\\dataset_converted\\\\Negative for intraepithelial lesion\\\\3794.png',\n",
       "  'c:\\\\Users\\\\henrique\\\\Trabalho_Pratico_-_Processamento_e_Analise_de_Imagens_-_2024-1\\\\develop_henrique_2024_06_01\\\\develop_henrique_2024_06_01\\\\dataset_converted\\\\Negative for intraepithelial lesion\\\\7338.png',\n",
       "  'c:\\\\Users\\\\henrique\\\\Trabalho_Pratico_-_Processamento_e_Analise_de_Imagens_-_2024-1\\\\develop_henrique_2024_06_01\\\\develop_henrique_2024_06_01\\\\dataset_converted\\\\Negative for intraepithelial lesion\\\\6842.png']\n",
       "Length: 5581, dtype: string"
      ]
     },
     "execution_count": 12,
     "metadata": {},
     "output_type": "execute_result"
    }
   ],
   "source": [
    "x"
   ]
  },
  {
   "cell_type": "code",
   "execution_count": 13,
   "metadata": {},
   "outputs": [
    {
     "data": {
      "text/plain": [
       "(5581,)"
      ]
     },
     "execution_count": 13,
     "metadata": {},
     "output_type": "execute_result"
    }
   ],
   "source": [
    "x.shape"
   ]
  },
  {
   "cell_type": "markdown",
   "metadata": {},
   "source": [
    "Separando o y"
   ]
  },
  {
   "cell_type": "code",
   "execution_count": 14,
   "metadata": {
    "ExecuteTime": {
     "end_time": "2024-05-27T22:07:32.231453Z",
     "start_time": "2024-05-27T22:07:32.227388Z"
    }
   },
   "outputs": [],
   "source": [
    "y = data_frame.iloc[:, 4].values"
   ]
  },
  {
   "cell_type": "code",
   "execution_count": 15,
   "metadata": {},
   "outputs": [],
   "source": [
    "y = sklearn.preprocessing.LabelEncoder().fit_transform(y)"
   ]
  },
  {
   "cell_type": "markdown",
   "metadata": {},
   "source": [
    "Separando o conjunto de treino e teste"
   ]
  },
  {
   "cell_type": "code",
   "execution_count": 16,
   "metadata": {
    "ExecuteTime": {
     "end_time": "2024-05-27T22:07:32.245398Z",
     "start_time": "2024-05-27T22:07:32.239332Z"
    }
   },
   "outputs": [],
   "source": [
    "x_train, x_test, y_train, y_test = sklearn.model_selection.train_test_split(x, y)"
   ]
  },
  {
   "cell_type": "code",
   "execution_count": 17,
   "metadata": {},
   "outputs": [
    {
     "data": {
      "text/plain": [
       "(4185,)"
      ]
     },
     "execution_count": 17,
     "metadata": {},
     "output_type": "execute_result"
    }
   ],
   "source": [
    "x_train.shape"
   ]
  },
  {
   "cell_type": "code",
   "execution_count": 18,
   "metadata": {},
   "outputs": [
    {
     "data": {
      "text/plain": [
       "(4185,)"
      ]
     },
     "execution_count": 18,
     "metadata": {},
     "output_type": "execute_result"
    }
   ],
   "source": [
    "y_train.shape"
   ]
  },
  {
   "cell_type": "code",
   "execution_count": 19,
   "metadata": {},
   "outputs": [
    {
     "data": {
      "text/plain": [
       "(1396,)"
      ]
     },
     "execution_count": 19,
     "metadata": {},
     "output_type": "execute_result"
    }
   ],
   "source": [
    "x_test.shape"
   ]
  },
  {
   "cell_type": "code",
   "execution_count": 20,
   "metadata": {},
   "outputs": [
    {
     "data": {
      "text/plain": [
       "(1396,)"
      ]
     },
     "execution_count": 20,
     "metadata": {},
     "output_type": "execute_result"
    }
   ],
   "source": [
    "y_test.shape"
   ]
  },
  {
   "cell_type": "markdown",
   "metadata": {},
   "source": [
    "Exportando x_test, x_train, y_test, y_train para um arquivo externo"
   ]
  },
  {
   "cell_type": "code",
   "execution_count": 21,
   "metadata": {},
   "outputs": [],
   "source": [
    "with open('data.pkl', mode='wb') as file:\n",
    "    pickle.dump([x_train, x_test, y_train, y_test], file)"
   ]
  },
  {
   "cell_type": "markdown",
   "metadata": {},
   "source": [
    "Preprocessando as imagens"
   ]
  },
  {
   "cell_type": "code",
   "execution_count": 22,
   "metadata": {},
   "outputs": [],
   "source": [
    "def carregar_e_preprocessar_imagem(caminho_imagem):\n",
    "    \"\"\"\n",
    "    Carrega e preprocessa uma imagem para ser utilizada em um modelo de aprendizado de máquina.\n",
    "    \"\"\"\n",
    "    imagem = tensorflow.keras.preprocessing.image.load_img(caminho_imagem)\n",
    "    #print(type(imagem))\n",
    "    imagem_array = tensorflow.keras.preprocessing.image.img_to_array(imagem)\n",
    "    #print(type(imagem_array))\n",
    "    #print(imagem_array.shape)\n",
    "    #imagem_array = numpy.expand_dims(imagem_array, axis=0)\n",
    "    #print(type(imagem_array))\n",
    "    #print(imagem_array.shape)\n",
    "    return tensorflow.keras.applications.resnet50.preprocess_input(imagem_array)"
   ]
  },
  {
   "cell_type": "code",
   "execution_count": 23,
   "metadata": {},
   "outputs": [
    {
     "data": {
      "text/plain": [
       "(100, 100, 3)"
      ]
     },
     "execution_count": 23,
     "metadata": {},
     "output_type": "execute_result"
    }
   ],
   "source": [
    "carregar_e_preprocessar_imagem(x_train[0]).shape"
   ]
  },
  {
   "cell_type": "code",
   "execution_count": 24,
   "metadata": {},
   "outputs": [
    {
     "data": {
      "text/plain": [
       "tuple"
      ]
     },
     "execution_count": 24,
     "metadata": {},
     "output_type": "execute_result"
    }
   ],
   "source": [
    "type(carregar_e_preprocessar_imagem(x_train[0]).shape)"
   ]
  },
  {
   "cell_type": "code",
   "execution_count": 25,
   "metadata": {},
   "outputs": [
    {
     "data": {
      "text/plain": [
       "str"
      ]
     },
     "execution_count": 25,
     "metadata": {},
     "output_type": "execute_result"
    }
   ],
   "source": [
    "type(x_train[0])"
   ]
  },
  {
   "cell_type": "markdown",
   "metadata": {},
   "source": [
    "# Aplicando o ResNet50"
   ]
  },
  {
   "cell_type": "code",
   "execution_count": 26,
   "metadata": {},
   "outputs": [],
   "source": [
    "def predizer_classe_imagem(modelo, caminho_imagem):\n",
    "    \"\"\"\n",
    "    Prediz a classe de uma imagem utilizando um modelo de aprendizado de máquina.\n",
    "    \"\"\"\n",
    "    imagem_array = carregar_e_preprocessar_imagem(caminho_imagem)\n",
    "    predicoes = modelo.predict(imagem_array)\n",
    "    decoded_predictions = tensorflow.keras.applications.resnet50.decode_predictions(predicoes, top=3)[0]\n",
    "    return decoded_predictions"
   ]
  },
  {
   "cell_type": "markdown",
   "metadata": {},
   "source": [
    "Construindo o modelo"
   ]
  },
  {
   "cell_type": "code",
   "execution_count": 27,
   "metadata": {},
   "outputs": [
    {
     "data": {
      "text/plain": [
       "numpy.ndarray"
      ]
     },
     "execution_count": 27,
     "metadata": {},
     "output_type": "execute_result"
    }
   ],
   "source": [
    "type(y_train)"
   ]
  },
  {
   "cell_type": "code",
   "execution_count": 28,
   "metadata": {},
   "outputs": [],
   "source": [
    "shape = (100, 100, 3)\n",
    "modelo_basico = tensorflow.keras.applications.resnet50.ResNet50(\n",
    "    weights='imagenet',\n",
    "    include_top=False,\n",
    "    input_shape=shape,\n",
    "    )"
   ]
  },
  {
   "cell_type": "code",
   "execution_count": 29,
   "metadata": {},
   "outputs": [],
   "source": [
    "x_ = tensorflow.keras.layers.GlobalAveragePooling2D()(modelo_basico.output) # modelo.output\n",
    "x_ = tensorflow.keras.layers.Dense(len(numpy.unique(y)), activation='softmax')(x_)"
   ]
  },
  {
   "cell_type": "code",
   "execution_count": 30,
   "metadata": {},
   "outputs": [],
   "source": [
    "modelo = tensorflow.keras.models.Model(inputs=modelo_basico.input, outputs=x_)"
   ]
  },
  {
   "cell_type": "markdown",
   "metadata": {},
   "source": [
    "Compilando do modelo"
   ]
  },
  {
   "cell_type": "code",
   "execution_count": 31,
   "metadata": {},
   "outputs": [],
   "source": [
    "modelo.compile(optimizer=tensorflow.keras.optimizers.Adam(learning_rate=0.001), loss='categorical_crossentropy', metrics=['accuracy'])"
   ]
  },
  {
   "cell_type": "markdown",
   "metadata": {},
   "source": [
    "Salvando o modelo"
   ]
  },
  {
   "cell_type": "code",
   "execution_count": 32,
   "metadata": {},
   "outputs": [],
   "source": [
    "checkpoint = tensorflow.keras.callbacks.ModelCheckpoint('modelo_resnet_50.keras', monitor='val_accuracy', save_best_only=True)\n",
    "parada_precoce = tensorflow.keras.callbacks.EarlyStopping(monitor='val_accuracy', patience=10, mode='min')"
   ]
  },
  {
   "cell_type": "markdown",
   "metadata": {},
   "source": [
    "Treinando o modelo"
   ]
  },
  {
   "cell_type": "code",
   "execution_count": 33,
   "metadata": {},
   "outputs": [
    {
     "data": {
      "text/plain": [
       "numpy.ndarray"
      ]
     },
     "execution_count": 33,
     "metadata": {},
     "output_type": "execute_result"
    }
   ],
   "source": [
    "type(y_train)"
   ]
  },
  {
   "cell_type": "code",
   "execution_count": 34,
   "metadata": {},
   "outputs": [
    {
     "data": {
      "text/plain": [
       "<StringArray>\n",
       "[                                'c:\\\\Users\\\\henrique\\\\Trabalho_Pratico_-_Processamento_e_Analise_de_Imagens_-_2024-1\\\\develop_henrique_2024_06_01\\\\develop_henrique_2024_06_01\\\\dataset_converted\\\\LSIL\\\\8784.png',\n",
       "  'c:\\\\Users\\\\henrique\\\\Trabalho_Pratico_-_Processamento_e_Analise_de_Imagens_-_2024-1\\\\develop_henrique_2024_06_01\\\\develop_henrique_2024_06_01\\\\dataset_converted\\\\Negative for intraepithelial lesion\\\\4361.png',\n",
       "  'c:\\\\Users\\\\henrique\\\\Trabalho_Pratico_-_Processamento_e_Analise_de_Imagens_-_2024-1\\\\develop_henrique_2024_06_01\\\\develop_henrique_2024_06_01\\\\dataset_converted\\\\Negative for intraepithelial lesion\\\\1097.png',\n",
       "  'c:\\\\Users\\\\henrique\\\\Trabalho_Pratico_-_Processamento_e_Analise_de_Imagens_-_2024-1\\\\develop_henrique_2024_06_01\\\\develop_henrique_2024_06_01\\\\dataset_converted\\\\Negative for intraepithelial lesion\\\\7586.png',\n",
       "  'c:\\\\Users\\\\henrique\\\\Trabalho_Pratico_-_Processamento_e_Analise_de_Imagens_-_2024-1\\\\develop_henrique_2024_06_01\\\\develop_henrique_2024_06_01\\\\dataset_converted\\\\Negative for intraepithelial lesion\\\\3560.png',\n",
       " 'c:\\\\Users\\\\henrique\\\\Trabalho_Pratico_-_Processamento_e_Analise_de_Imagens_-_2024-1\\\\develop_henrique_2024_06_01\\\\develop_henrique_2024_06_01\\\\dataset_converted\\\\Negative for intraepithelial lesion\\\\10566.png',\n",
       "                               'c:\\\\Users\\\\henrique\\\\Trabalho_Pratico_-_Processamento_e_Analise_de_Imagens_-_2024-1\\\\develop_henrique_2024_06_01\\\\develop_henrique_2024_06_01\\\\dataset_converted\\\\ASC-US\\\\5099.png',\n",
       "  'c:\\\\Users\\\\henrique\\\\Trabalho_Pratico_-_Processamento_e_Analise_de_Imagens_-_2024-1\\\\develop_henrique_2024_06_01\\\\develop_henrique_2024_06_01\\\\dataset_converted\\\\Negative for intraepithelial lesion\\\\6465.png',\n",
       "                                 'c:\\\\Users\\\\henrique\\\\Trabalho_Pratico_-_Processamento_e_Analise_de_Imagens_-_2024-1\\\\develop_henrique_2024_06_01\\\\develop_henrique_2024_06_01\\\\dataset_converted\\\\LSIL\\\\4052.png',\n",
       "  'c:\\\\Users\\\\henrique\\\\Trabalho_Pratico_-_Processamento_e_Analise_de_Imagens_-_2024-1\\\\develop_henrique_2024_06_01\\\\develop_henrique_2024_06_01\\\\dataset_converted\\\\Negative for intraepithelial lesion\\\\6721.png',\n",
       " ...\n",
       "  'c:\\\\Users\\\\henrique\\\\Trabalho_Pratico_-_Processamento_e_Analise_de_Imagens_-_2024-1\\\\develop_henrique_2024_06_01\\\\develop_henrique_2024_06_01\\\\dataset_converted\\\\Negative for intraepithelial lesion\\\\5077.png',\n",
       "  'c:\\\\Users\\\\henrique\\\\Trabalho_Pratico_-_Processamento_e_Analise_de_Imagens_-_2024-1\\\\develop_henrique_2024_06_01\\\\develop_henrique_2024_06_01\\\\dataset_converted\\\\Negative for intraepithelial lesion\\\\4895.png',\n",
       "  'c:\\\\Users\\\\henrique\\\\Trabalho_Pratico_-_Processamento_e_Analise_de_Imagens_-_2024-1\\\\develop_henrique_2024_06_01\\\\develop_henrique_2024_06_01\\\\dataset_converted\\\\Negative for intraepithelial lesion\\\\6107.png',\n",
       "  'c:\\\\Users\\\\henrique\\\\Trabalho_Pratico_-_Processamento_e_Analise_de_Imagens_-_2024-1\\\\develop_henrique_2024_06_01\\\\develop_henrique_2024_06_01\\\\dataset_converted\\\\Negative for intraepithelial lesion\\\\3737.png',\n",
       "  'c:\\\\Users\\\\henrique\\\\Trabalho_Pratico_-_Processamento_e_Analise_de_Imagens_-_2024-1\\\\develop_henrique_2024_06_01\\\\develop_henrique_2024_06_01\\\\dataset_converted\\\\Negative for intraepithelial lesion\\\\3197.png',\n",
       " 'c:\\\\Users\\\\henrique\\\\Trabalho_Pratico_-_Processamento_e_Analise_de_Imagens_-_2024-1\\\\develop_henrique_2024_06_01\\\\develop_henrique_2024_06_01\\\\dataset_converted\\\\Negative for intraepithelial lesion\\\\10306.png',\n",
       "  'c:\\\\Users\\\\henrique\\\\Trabalho_Pratico_-_Processamento_e_Analise_de_Imagens_-_2024-1\\\\develop_henrique_2024_06_01\\\\develop_henrique_2024_06_01\\\\dataset_converted\\\\Negative for intraepithelial lesion\\\\7058.png',\n",
       " 'c:\\\\Users\\\\henrique\\\\Trabalho_Pratico_-_Processamento_e_Analise_de_Imagens_-_2024-1\\\\develop_henrique_2024_06_01\\\\develop_henrique_2024_06_01\\\\dataset_converted\\\\Negative for intraepithelial lesion\\\\10568.png',\n",
       "  'c:\\\\Users\\\\henrique\\\\Trabalho_Pratico_-_Processamento_e_Analise_de_Imagens_-_2024-1\\\\develop_henrique_2024_06_01\\\\develop_henrique_2024_06_01\\\\dataset_converted\\\\Negative for intraepithelial lesion\\\\5010.png',\n",
       "  'c:\\\\Users\\\\henrique\\\\Trabalho_Pratico_-_Processamento_e_Analise_de_Imagens_-_2024-1\\\\develop_henrique_2024_06_01\\\\develop_henrique_2024_06_01\\\\dataset_converted\\\\Negative for intraepithelial lesion\\\\6821.png']\n",
       "Length: 4185, dtype: string"
      ]
     },
     "execution_count": 34,
     "metadata": {},
     "output_type": "execute_result"
    }
   ],
   "source": [
    "x_train"
   ]
  },
  {
   "cell_type": "markdown",
   "metadata": {},
   "source": [
    "Preprocessando imagem"
   ]
  },
  {
   "cell_type": "code",
   "execution_count": 35,
   "metadata": {},
   "outputs": [],
   "source": [
    "x_train_carregado = numpy.array([carregar_e_preprocessar_imagem(x_train[i]) for i in range(len(x_train))])\n",
    "x_test_carregado = numpy.array([carregar_e_preprocessar_imagem(x_test[i]) for i in range(len(x_test))])"
   ]
  },
  {
   "cell_type": "code",
   "execution_count": 36,
   "metadata": {},
   "outputs": [
    {
     "data": {
      "text/plain": [
       "4185"
      ]
     },
     "execution_count": 36,
     "metadata": {},
     "output_type": "execute_result"
    }
   ],
   "source": [
    "len(x_train)"
   ]
  },
  {
   "cell_type": "code",
   "execution_count": 37,
   "metadata": {},
   "outputs": [
    {
     "data": {
      "text/plain": [
       "(4185, 100, 100, 3)"
      ]
     },
     "execution_count": 37,
     "metadata": {},
     "output_type": "execute_result"
    }
   ],
   "source": [
    "x_train_carregado.shape"
   ]
  },
  {
   "cell_type": "code",
   "execution_count": 38,
   "metadata": {},
   "outputs": [
    {
     "data": {
      "text/plain": [
       "(4185, 100, 100, 3)"
      ]
     },
     "execution_count": 38,
     "metadata": {},
     "output_type": "execute_result"
    }
   ],
   "source": [
    "x_train_carregado.shape"
   ]
  },
  {
   "cell_type": "code",
   "execution_count": 39,
   "metadata": {},
   "outputs": [],
   "source": [
    "shapes = []\n",
    "for i in range(len(x_train)):\n",
    "    if x_train_carregado[i].shape not in shapes:\n",
    "        shapes.append(x_train_carregado[i].shape)"
   ]
  },
  {
   "cell_type": "code",
   "execution_count": 40,
   "metadata": {},
   "outputs": [
    {
     "data": {
      "text/plain": [
       "[(100, 100, 3)]"
      ]
     },
     "execution_count": 40,
     "metadata": {},
     "output_type": "execute_result"
    }
   ],
   "source": [
    "shapes"
   ]
  },
  {
   "cell_type": "code",
   "execution_count": 41,
   "metadata": {},
   "outputs": [
    {
     "data": {
      "text/plain": [
       "(4185,)"
      ]
     },
     "execution_count": 41,
     "metadata": {},
     "output_type": "execute_result"
    }
   ],
   "source": [
    "y_train.shape"
   ]
  },
  {
   "cell_type": "code",
   "execution_count": 43,
   "metadata": {},
   "outputs": [
    {
     "data": {
      "text/plain": [
       "array([3, 4, 4, ..., 4, 4, 4])"
      ]
     },
     "execution_count": 43,
     "metadata": {},
     "output_type": "execute_result"
    }
   ],
   "source": [
    "y_train"
   ]
  },
  {
   "cell_type": "code",
   "execution_count": 44,
   "metadata": {},
   "outputs": [
    {
     "name": "stdout",
     "output_type": "stream",
     "text": [
      "Epoch 1/100\n"
     ]
    },
    {
     "ename": "ValueError",
     "evalue": "Arguments `target` and `output` must have the same rank (ndim). Received: target.shape=(None,), output.shape=(None, 6)",
     "output_type": "error",
     "traceback": [
      "\u001b[1;31m---------------------------------------------------------------------------\u001b[0m",
      "\u001b[1;31mValueError\u001b[0m                                Traceback (most recent call last)",
      "Cell \u001b[1;32mIn[44], line 1\u001b[0m\n\u001b[1;32m----> 1\u001b[0m \u001b[43mmodelo\u001b[49m\u001b[38;5;241;43m.\u001b[39;49m\u001b[43mfit\u001b[49m\u001b[43m(\u001b[49m\u001b[43mx_train_carregado\u001b[49m\u001b[43m,\u001b[49m\u001b[43m \u001b[49m\u001b[43my_train\u001b[49m\u001b[43m,\u001b[49m\u001b[43m \u001b[49m\u001b[43mvalidation_data\u001b[49m\u001b[38;5;241;43m=\u001b[39;49m\u001b[43m(\u001b[49m\u001b[43mx_test_carregado\u001b[49m\u001b[43m,\u001b[49m\u001b[43m \u001b[49m\u001b[43my_test\u001b[49m\u001b[43m)\u001b[49m\u001b[43m,\u001b[49m\u001b[43m \u001b[49m\u001b[43mepochs\u001b[49m\u001b[38;5;241;43m=\u001b[39;49m\u001b[38;5;241;43m100\u001b[39;49m\u001b[43m,\u001b[49m\u001b[43m \u001b[49m\u001b[43mcallbacks\u001b[49m\u001b[38;5;241;43m=\u001b[39;49m\u001b[43m[\u001b[49m\u001b[43mcheckpoint\u001b[49m\u001b[43m,\u001b[49m\u001b[43m \u001b[49m\u001b[43mparada_precoce\u001b[49m\u001b[43m]\u001b[49m\u001b[43m)\u001b[49m\n",
      "File \u001b[1;32mc:\\Users\\henrique\\Trabalho_Pratico_-_Processamento_e_Analise_de_Imagens_-_2024-1\\develop_henrique_2024_06_01\\develop_henrique_2024_06_01\\venv\\Lib\\site-packages\\keras\\src\\utils\\traceback_utils.py:122\u001b[0m, in \u001b[0;36mfilter_traceback.<locals>.error_handler\u001b[1;34m(*args, **kwargs)\u001b[0m\n\u001b[0;32m    119\u001b[0m     filtered_tb \u001b[38;5;241m=\u001b[39m _process_traceback_frames(e\u001b[38;5;241m.\u001b[39m__traceback__)\n\u001b[0;32m    120\u001b[0m     \u001b[38;5;66;03m# To get the full stack trace, call:\u001b[39;00m\n\u001b[0;32m    121\u001b[0m     \u001b[38;5;66;03m# `keras.config.disable_traceback_filtering()`\u001b[39;00m\n\u001b[1;32m--> 122\u001b[0m     \u001b[38;5;28;01mraise\u001b[39;00m e\u001b[38;5;241m.\u001b[39mwith_traceback(filtered_tb) \u001b[38;5;28;01mfrom\u001b[39;00m \u001b[38;5;28;01mNone\u001b[39;00m\n\u001b[0;32m    123\u001b[0m \u001b[38;5;28;01mfinally\u001b[39;00m:\n\u001b[0;32m    124\u001b[0m     \u001b[38;5;28;01mdel\u001b[39;00m filtered_tb\n",
      "File \u001b[1;32mc:\\Users\\henrique\\Trabalho_Pratico_-_Processamento_e_Analise_de_Imagens_-_2024-1\\develop_henrique_2024_06_01\\develop_henrique_2024_06_01\\venv\\Lib\\site-packages\\keras\\src\\backend\\tensorflow\\nn.py:547\u001b[0m, in \u001b[0;36mcategorical_crossentropy\u001b[1;34m(target, output, from_logits, axis)\u001b[0m\n\u001b[0;32m    541\u001b[0m     \u001b[38;5;28;01mraise\u001b[39;00m \u001b[38;5;167;01mValueError\u001b[39;00m(\n\u001b[0;32m    542\u001b[0m         \u001b[38;5;124m\"\u001b[39m\u001b[38;5;124mArguments `target` and `output` must be at least rank 1. \u001b[39m\u001b[38;5;124m\"\u001b[39m\n\u001b[0;32m    543\u001b[0m         \u001b[38;5;124m\"\u001b[39m\u001b[38;5;124mReceived: \u001b[39m\u001b[38;5;124m\"\u001b[39m\n\u001b[0;32m    544\u001b[0m         \u001b[38;5;124mf\u001b[39m\u001b[38;5;124m\"\u001b[39m\u001b[38;5;124mtarget.shape=\u001b[39m\u001b[38;5;132;01m{\u001b[39;00mtarget\u001b[38;5;241m.\u001b[39mshape\u001b[38;5;132;01m}\u001b[39;00m\u001b[38;5;124m, output.shape=\u001b[39m\u001b[38;5;132;01m{\u001b[39;00moutput\u001b[38;5;241m.\u001b[39mshape\u001b[38;5;132;01m}\u001b[39;00m\u001b[38;5;124m\"\u001b[39m\n\u001b[0;32m    545\u001b[0m     )\n\u001b[0;32m    546\u001b[0m \u001b[38;5;28;01mif\u001b[39;00m \u001b[38;5;28mlen\u001b[39m(target\u001b[38;5;241m.\u001b[39mshape) \u001b[38;5;241m!=\u001b[39m \u001b[38;5;28mlen\u001b[39m(output\u001b[38;5;241m.\u001b[39mshape):\n\u001b[1;32m--> 547\u001b[0m     \u001b[38;5;28;01mraise\u001b[39;00m \u001b[38;5;167;01mValueError\u001b[39;00m(\n\u001b[0;32m    548\u001b[0m         \u001b[38;5;124m\"\u001b[39m\u001b[38;5;124mArguments `target` and `output` must have the same rank \u001b[39m\u001b[38;5;124m\"\u001b[39m\n\u001b[0;32m    549\u001b[0m         \u001b[38;5;124m\"\u001b[39m\u001b[38;5;124m(ndim). Received: \u001b[39m\u001b[38;5;124m\"\u001b[39m\n\u001b[0;32m    550\u001b[0m         \u001b[38;5;124mf\u001b[39m\u001b[38;5;124m\"\u001b[39m\u001b[38;5;124mtarget.shape=\u001b[39m\u001b[38;5;132;01m{\u001b[39;00mtarget\u001b[38;5;241m.\u001b[39mshape\u001b[38;5;132;01m}\u001b[39;00m\u001b[38;5;124m, output.shape=\u001b[39m\u001b[38;5;132;01m{\u001b[39;00moutput\u001b[38;5;241m.\u001b[39mshape\u001b[38;5;132;01m}\u001b[39;00m\u001b[38;5;124m\"\u001b[39m\n\u001b[0;32m    551\u001b[0m     )\n\u001b[0;32m    552\u001b[0m \u001b[38;5;28;01mfor\u001b[39;00m e1, e2 \u001b[38;5;129;01min\u001b[39;00m \u001b[38;5;28mzip\u001b[39m(target\u001b[38;5;241m.\u001b[39mshape, output\u001b[38;5;241m.\u001b[39mshape):\n\u001b[0;32m    553\u001b[0m     \u001b[38;5;28;01mif\u001b[39;00m e1 \u001b[38;5;129;01mis\u001b[39;00m \u001b[38;5;129;01mnot\u001b[39;00m \u001b[38;5;28;01mNone\u001b[39;00m \u001b[38;5;129;01mand\u001b[39;00m e2 \u001b[38;5;129;01mis\u001b[39;00m \u001b[38;5;129;01mnot\u001b[39;00m \u001b[38;5;28;01mNone\u001b[39;00m \u001b[38;5;129;01mand\u001b[39;00m e1 \u001b[38;5;241m!=\u001b[39m e2:\n",
      "\u001b[1;31mValueError\u001b[0m: Arguments `target` and `output` must have the same rank (ndim). Received: target.shape=(None,), output.shape=(None, 6)"
     ]
    }
   ],
   "source": [
    "modelo.fit(x_train_carregado, y_train, validation_data=(x_test_carregado, y_test), epochs=100, callbacks=[checkpoint, parada_precoce])"
   ]
  },
  {
   "cell_type": "code",
   "execution_count": null,
   "metadata": {},
   "outputs": [],
   "source": [
    "#def train_image(modelo, image_path, classe):\n",
    "    #array_imagem = carregar_e_preprocessar_imagem(image_path)\n",
    "    #historico = modelo.fit(array_imagem, classe, epochs=10, validation_split=0.2, callbacks=[checkpoint, parada_precoce])\n",
    "#"
   ]
  },
  {
   "cell_type": "code",
   "execution_count": null,
   "metadata": {},
   "outputs": [],
   "source": [
    "type(x_train)"
   ]
  },
  {
   "cell_type": "code",
   "execution_count": null,
   "metadata": {},
   "outputs": [],
   "source": [
    "#for i in range(len(x_train)):\n",
    "#    train_image(modelo, x_train[i], y_train[i])"
   ]
  },
  {
   "cell_type": "markdown",
   "metadata": {},
   "source": [
    "Exportando o modelo treinado"
   ]
  },
  {
   "cell_type": "markdown",
   "metadata": {},
   "source": [
    "Exportando os pesos"
   ]
  },
  {
   "cell_type": "markdown",
   "metadata": {},
   "source": [
    "Testando o modelo"
   ]
  },
  {
   "cell_type": "markdown",
   "metadata": {},
   "source": [
    "Exportando as predições"
   ]
  }
 ],
 "metadata": {
  "kernelspec": {
   "display_name": "venv",
   "language": "python",
   "name": "python3"
  },
  "language_info": {
   "codemirror_mode": {
    "name": "ipython",
    "version": 3
   },
   "file_extension": ".py",
   "mimetype": "text/x-python",
   "name": "python",
   "nbconvert_exporter": "python",
   "pygments_lexer": "ipython3",
   "version": "3.12.3"
  }
 },
 "nbformat": 4,
 "nbformat_minor": 2
}
