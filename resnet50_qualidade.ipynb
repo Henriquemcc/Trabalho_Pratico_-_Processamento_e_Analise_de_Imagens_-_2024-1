{
 "cells": [
  {
   "cell_type": "code",
   "execution_count": 1,
   "id": "e08ce428-314b-4086-83cf-785e7ac524db",
   "metadata": {},
   "outputs": [
    {
     "name": "stdout",
     "output_type": "stream",
     "text": [
      "Note: you may need to restart the kernel to use updated packages.\n",
      "Note: you may need to restart the kernel to use updated packages.\n"
     ]
    }
   ],
   "source": [
    "%pip -q install yellowbrick\n",
    "%pip -q install seaborn\n",
    "import os\n",
    "import pandas as pd\n",
    "import numpy as np\n",
    "from PIL import Image\n",
    "import cv2\n",
    "import tensorflow as tf\n",
    "from tensorflow.keras.applications import ResNet50\n",
    "from tensorflow.keras.applications.resnet50 import preprocess_input\n",
    "from tensorflow.keras.preprocessing.image import ImageDataGenerator\n",
    "from tensorflow.keras.models import Model\n",
    "from tensorflow.keras.layers import Dense, GlobalAveragePooling2D\n",
    "from tensorflow.keras.optimizers import Adam\n",
    "from tensorflow.keras.utils import to_categorical\n",
    "from sklearn.model_selection import train_test_split\n",
    "import random\n",
    "import joblib\n",
    "import seaborn\n",
    "from sklearn.metrics import confusion_matrix\n",
    "from matplotlib import pyplot as plt\n",
    "import numpy\n",
    "import sklearn"
   ]
  },
  {
   "cell_type": "code",
   "execution_count": 2,
   "id": "dec86d12-7a24-45fd-8cb5-e33d1be12b5f",
   "metadata": {},
   "outputs": [],
   "source": [
    "# Caminho das imagens e classificações\n",
    "images_path = 'dataset_converted'\n",
    "\n",
    "# DataFrame inicial\n",
    "df = pd.DataFrame(columns=['path', 'classification'])\n",
    "classification_label = []"
   ]
  },
  {
   "cell_type": "code",
   "execution_count": 3,
   "id": "067c4f7e",
   "metadata": {},
   "outputs": [],
   "source": [
    "# Carregar caminhos de imagens e classificações\n",
    "for f_number, folder in enumerate(os.listdir(images_path)):\n",
    "    folder_path = os.path.join(images_path, folder)\n",
    "    classification_label.append(folder)\n",
    "    for image in os.listdir(folder_path):\n",
    "        image_path = os.path.join(folder_path, image)\n",
    "        df.loc[0 if pd.isnull(df.index.max()) else df.index.max() + 1] = [image_path, f_number]"
   ]
  },
  {
   "cell_type": "code",
   "execution_count": 4,
   "id": "7e0e92ac",
   "metadata": {},
   "outputs": [],
   "source": [
    "# Verificar se o DataFrame não está vazio\n",
    "if df.empty:\n",
    "    raise ValueError(\"O DataFrame está vazio. Verifique o carregamento das imagens.\")"
   ]
  },
  {
   "cell_type": "code",
   "execution_count": 5,
   "id": "e53a3d88-2c54-411a-9a5a-d49f0146e705",
   "metadata": {},
   "outputs": [],
   "source": [
    "# Função para carregar e pré-processar a imagem\n",
    "def preprocess_image(image_path):\n",
    "    # Carregar a imagem e redimensionar para o tamanho esperado pela ResNet50\n",
    "    image = np.array(Image.open(image_path).convert('RGB').resize((224, 224)))\n",
    "    # Pré-processar a imagem de acordo com o ResNet50\n",
    "    image = preprocess_input(image)\n",
    "    return image"
   ]
  },
  {
   "cell_type": "code",
   "execution_count": 6,
   "id": "ccd2ff4c-5710-428a-9ae6-fd32752e0c27",
   "metadata": {},
   "outputs": [],
   "source": [
    "# Aplicar o pré-processamento a todas as imagens\n",
    "df['image'] = df['path'].apply(preprocess_image)"
   ]
  },
  {
   "cell_type": "code",
   "execution_count": 7,
   "id": "6c958216",
   "metadata": {},
   "outputs": [],
   "source": [
    "# Verificar se as imagens foram processadas corretamente\n",
    "if df['image'].isnull().any():\n",
    "    raise ValueError(\"Existem imagens não processadas. Verifique o pré-processamento.\")"
   ]
  },
  {
   "cell_type": "code",
   "execution_count": 8,
   "id": "b5759c9c-5a5a-42e1-a239-b0a481242fcb",
   "metadata": {},
   "outputs": [],
   "source": [
    "# Converter a coluna 'image' para uma lista de arrays\n",
    "X = np.array(df['image'].tolist(), dtype=np.float32)"
   ]
  },
  {
   "cell_type": "code",
   "execution_count": 9,
   "id": "ea4cbba6",
   "metadata": {},
   "outputs": [],
   "source": [
    "# Verificar se as classificações estão corretas\n",
    "if df['classification'].isnull().any():\n",
    "    raise ValueError(\"Existem classificações faltantes. Verifique os dados de entrada.\")"
   ]
  },
  {
   "cell_type": "code",
   "execution_count": 10,
   "id": "8922a1d1",
   "metadata": {},
   "outputs": [],
   "source": [
    "# Converter classificações para one-hot encoding\n",
    "y = to_categorical(df['classification'], num_classes=len(classification_label))"
   ]
  },
  {
   "cell_type": "code",
   "execution_count": 11,
   "id": "ec074a3b",
   "metadata": {},
   "outputs": [
    {
     "name": "stdout",
     "output_type": "stream",
     "text": [
      "Shape of X: (5581, 224, 224, 3)\n",
      "Shape of y: (5581, 6)\n",
      "Data type of X: float32\n",
      "Data type of y: float64\n"
     ]
    }
   ],
   "source": [
    "# Verificação adicional\n",
    "print(f\"Shape of X: {X.shape}\")\n",
    "print(f\"Shape of y: {y.shape}\")\n",
    "print(f\"Data type of X: {X.dtype}\")\n",
    "print(f\"Data type of y: {y.dtype}\")"
   ]
  },
  {
   "cell_type": "code",
   "execution_count": 12,
   "id": "b962476e",
   "metadata": {},
   "outputs": [],
   "source": [
    "# Separar os dados em conjuntos de treino e teste\n",
    "X_train, X_test, y_train, y_test = train_test_split(X, y, test_size=0.2, random_state=42)"
   ]
  },
  {
   "cell_type": "code",
   "execution_count": 17,
   "id": "fd3c4a0e",
   "metadata": {},
   "outputs": [],
   "source": [
    "# Construir o modelo ResNet50\n",
    "base_model = ResNet50(weights='imagenet', include_top=False)"
   ]
  },
  {
   "cell_type": "code",
   "execution_count": 18,
   "id": "4f80226f-2e9b-4014-9101-eba97e77f164",
   "metadata": {},
   "outputs": [],
   "source": [
    "# Adicionar camadas personalizadas ao modelo\n",
    "x = base_model.output\n",
    "x = GlobalAveragePooling2D()(x)\n",
    "x = Dense(1024, activation='relu')(x)\n",
    "predictions = Dense(len(classification_label), activation='softmax')(x)"
   ]
  },
  {
   "cell_type": "code",
   "execution_count": 19,
   "id": "89a00ffb",
   "metadata": {},
   "outputs": [],
   "source": [
    "# Definir o modelo completo\n",
    "model = Model(inputs=base_model.input, outputs=predictions)"
   ]
  },
  {
   "cell_type": "code",
   "execution_count": 20,
   "id": "fa322956-b931-4b77-b779-db725c72bd6a",
   "metadata": {},
   "outputs": [],
   "source": [
    "# Congelar as camadas da base_model\n",
    "for layer in base_model.layers:\n",
    "    layer.trainable = False"
   ]
  },
  {
   "cell_type": "code",
   "execution_count": 21,
   "id": "ec448f3d-25a6-4850-9e26-876b970dd38f",
   "metadata": {},
   "outputs": [],
   "source": [
    "# Compilar o modelo\n",
    "model.compile(optimizer=Adam(), loss='categorical_crossentropy', metrics=['accuracy'])"
   ]
  },
  {
   "cell_type": "markdown",
   "id": "2d8d6153-1820-4534-b6a0-6a905987d7b7",
   "metadata": {},
   "source": [
    "# Treinar o modelo resnet50"
   ]
  },
  {
   "cell_type": "code",
   "execution_count": 22,
   "id": "2709f1eb-74ea-4eb9-a371-1c66161a96a5",
   "metadata": {},
   "outputs": [
    {
     "name": "stdout",
     "output_type": "stream",
     "text": [
      "Epoch 1/10\n",
      "\u001b[1m140/140\u001b[0m \u001b[32m━━━━━━━━━━━━━━━━━━━━\u001b[0m\u001b[37m\u001b[0m \u001b[1m420s\u001b[0m 3s/step - accuracy: 0.7415 - loss: 1.2177 - val_accuracy: 0.7816 - val_loss: 0.6914\n",
      "Epoch 2/10\n",
      "\u001b[1m140/140\u001b[0m \u001b[32m━━━━━━━━━━━━━━━━━━━━\u001b[0m\u001b[37m\u001b[0m \u001b[1m384s\u001b[0m 3s/step - accuracy: 0.8075 - loss: 0.5644 - val_accuracy: 0.7681 - val_loss: 0.8064\n",
      "Epoch 3/10\n",
      "\u001b[1m140/140\u001b[0m \u001b[32m━━━━━━━━━━━━━━━━━━━━\u001b[0m\u001b[37m\u001b[0m \u001b[1m482s\u001b[0m 3s/step - accuracy: 0.8369 - loss: 0.4687 - val_accuracy: 0.7932 - val_loss: 0.6295\n",
      "Epoch 4/10\n",
      "\u001b[1m140/140\u001b[0m \u001b[32m━━━━━━━━━━━━━━━━━━━━\u001b[0m\u001b[37m\u001b[0m \u001b[1m430s\u001b[0m 3s/step - accuracy: 0.8734 - loss: 0.3633 - val_accuracy: 0.7950 - val_loss: 0.7322\n",
      "Epoch 5/10\n",
      "\u001b[1m140/140\u001b[0m \u001b[32m━━━━━━━━━━━━━━━━━━━━\u001b[0m\u001b[37m\u001b[0m \u001b[1m400s\u001b[0m 3s/step - accuracy: 0.8871 - loss: 0.3003 - val_accuracy: 0.8013 - val_loss: 0.6592\n",
      "Epoch 6/10\n",
      "\u001b[1m140/140\u001b[0m \u001b[32m━━━━━━━━━━━━━━━━━━━━\u001b[0m\u001b[37m\u001b[0m \u001b[1m400s\u001b[0m 3s/step - accuracy: 0.9214 - loss: 0.2211 - val_accuracy: 0.7950 - val_loss: 0.6490\n",
      "Epoch 7/10\n",
      "\u001b[1m140/140\u001b[0m \u001b[32m━━━━━━━━━━━━━━━━━━━━\u001b[0m\u001b[37m\u001b[0m \u001b[1m391s\u001b[0m 3s/step - accuracy: 0.9489 - loss: 0.1679 - val_accuracy: 0.8120 - val_loss: 0.7182\n",
      "Epoch 8/10\n",
      "\u001b[1m140/140\u001b[0m \u001b[32m━━━━━━━━━━━━━━━━━━━━\u001b[0m\u001b[37m\u001b[0m \u001b[1m410s\u001b[0m 3s/step - accuracy: 0.9592 - loss: 0.1333 - val_accuracy: 0.7986 - val_loss: 0.6949\n",
      "Epoch 9/10\n",
      "\u001b[1m140/140\u001b[0m \u001b[32m━━━━━━━━━━━━━━━━━━━━\u001b[0m\u001b[37m\u001b[0m \u001b[1m406s\u001b[0m 3s/step - accuracy: 0.9708 - loss: 0.1017 - val_accuracy: 0.8066 - val_loss: 0.7623\n",
      "Epoch 10/10\n",
      "\u001b[1m140/140\u001b[0m \u001b[32m━━━━━━━━━━━━━━━━━━━━\u001b[0m\u001b[37m\u001b[0m \u001b[1m445s\u001b[0m 3s/step - accuracy: 0.9851 - loss: 0.0573 - val_accuracy: 0.8039 - val_loss: 0.7613\n"
     ]
    },
    {
     "data": {
      "text/plain": [
       "<keras.src.callbacks.history.History at 0x1479591f350>"
      ]
     },
     "execution_count": 22,
     "metadata": {},
     "output_type": "execute_result"
    }
   ],
   "source": [
    "# Treinar o modelo\n",
    "model.fit(X_train, y_train, epochs=10, batch_size=32, validation_data=(X_test, y_test))"
   ]
  },
  {
   "cell_type": "code",
   "execution_count": 23,
   "id": "07c63143-b599-4ab6-80bd-f941f8191057",
   "metadata": {},
   "outputs": [
    {
     "name": "stdout",
     "output_type": "stream",
     "text": [
      "\u001b[1m35/35\u001b[0m \u001b[32m━━━━━━━━━━━━━━━━━━━━\u001b[0m\u001b[37m\u001b[0m \u001b[1m85s\u001b[0m 2s/step - accuracy: 0.8042 - loss: 0.7740\n",
      "Acurácia no conjunto de teste: 0.80\n"
     ]
    }
   ],
   "source": [
    "# Avaliar o modelo no conjunto de teste\n",
    "accuracy = model.evaluate(X_test, y_test)\n",
    "print(f\"Acurácia no conjunto de teste: {accuracy[1]:.2f}\")"
   ]
  },
  {
   "cell_type": "code",
   "execution_count": 28,
   "id": "89de1d23-b028-4a82-90f0-a866cd7cb11a",
   "metadata": {},
   "outputs": [
    {
     "name": "stderr",
     "output_type": "stream",
     "text": [
      "WARNING:absl:You are saving your model as an HDF5 file via `model.save()` or `keras.saving.save_model(model)`. This file format is considered legacy. We recommend using instead the native Keras format, e.g. `model.save('my_model.keras')` or `keras.saving.save_model(model, 'my_model.keras')`. \n"
     ]
    }
   ],
   "source": [
    "# Salvar o modelo treinado em um arquivo\n",
    "model.save('modelo_resnet50.h5')\n",
    "model.save_weights('pesos_resnet50.weights.h5')"
   ]
  },
  {
   "cell_type": "code",
   "execution_count": 25,
   "id": "131adbf5-f54f-44fc-b145-257370af051a",
   "metadata": {},
   "outputs": [
    {
     "name": "stderr",
     "output_type": "stream",
     "text": [
      "WARNING:absl:Compiled the loaded model, but the compiled metrics have yet to be built. `model.compile_metrics` will be empty until you train or evaluate the model.\n"
     ]
    }
   ],
   "source": [
    "# Carregar o modelo treinado a partir do arquivo\n",
    "modelo_carregado = tf.keras.models.load_model('modelo_resnet50.h5')\n"
   ]
  },
  {
   "cell_type": "code",
   "execution_count": 26,
   "id": "be331251",
   "metadata": {},
   "outputs": [
    {
     "name": "stdout",
     "output_type": "stream",
     "text": [
      "\u001b[1m35/35\u001b[0m \u001b[32m━━━━━━━━━━━━━━━━━━━━\u001b[0m\u001b[37m\u001b[0m \u001b[1m97s\u001b[0m 3s/step - accuracy: 0.8042 - loss: 0.7740\n",
      "Acurácia no conjunto de teste após carregar: 0.80\n"
     ]
    }
   ],
   "source": [
    "# Avaliar o modelo carregado no conjunto de teste\n",
    "accuracy = modelo_carregado.evaluate(X_test, y_test)\n",
    "print(f\"Acurácia no conjunto de teste após carregar: {accuracy[1]:.2f}\")"
   ]
  },
  {
   "cell_type": "markdown",
   "id": "b7b904d8",
   "metadata": {},
   "source": [
    "# Obtendo métricas e gráficos"
   ]
  },
  {
   "cell_type": "code",
   "execution_count": 13,
   "id": "c995343d",
   "metadata": {},
   "outputs": [
    {
     "name": "stderr",
     "output_type": "stream",
     "text": [
      "WARNING:absl:Compiled the loaded model, but the compiled metrics have yet to be built. `model.compile_metrics` will be empty until you train or evaluate the model.\n"
     ]
    }
   ],
   "source": [
    "modelo = tf.keras.models.load_model('app/inteligencia/resnet50.h5')"
   ]
  },
  {
   "cell_type": "code",
   "execution_count": 14,
   "id": "3f415e16",
   "metadata": {},
   "outputs": [
    {
     "name": "stdout",
     "output_type": "stream",
     "text": [
      "\u001b[1m175/175\u001b[0m \u001b[32m━━━━━━━━━━━━━━━━━━━━\u001b[0m\u001b[37m\u001b[0m \u001b[1m494s\u001b[0m 3s/step\n"
     ]
    }
   ],
   "source": [
    "predicoes = modelo.predict(X)"
   ]
  },
  {
   "cell_type": "code",
   "execution_count": null,
   "id": "371a3489",
   "metadata": {},
   "outputs": [],
   "source": []
  },
  {
   "cell_type": "code",
   "execution_count": 15,
   "id": "34f460e9",
   "metadata": {},
   "outputs": [
    {
     "data": {
      "image/png": "[encoded data removed]",
      "text/plain": [
       "<Figure size 1000x1000 with 2 Axes>"
      ]
     },
     "metadata": {},
     "output_type": "display_data"
    }
   ],
   "source": [
    "predicoes_ = np.argmax(predicoes, axis=1)\n",
    "y_test_ = np.argmax(y, axis=1)\n",
    "matriz_confusao = confusion_matrix(y_test_, predicoes_)\n",
    "plt.figure(figsize=(10, 10))\n",
    "seaborn.heatmap(matriz_confusao, annot=True, fmt='d', cmap='Blues', xticklabels=classification_label, yticklabels=classification_label)\n",
    "plt.xlabel('Predição')\n",
    "plt.ylabel('Real')\n",
    "plt.title('Matriz de Confusão do ResNet50')\n",
    "plt.show()"
   ]
  },
  {
   "cell_type": "code",
   "execution_count": 16,
   "id": "0aa21e97",
   "metadata": {},
   "outputs": [],
   "source": [
    "def obter_metricas(matriz_confusao: numpy.ndarray, y: numpy.ndarray) -> list[dict]:\n",
    "    \"\"\"\n",
    "    Obtém de uma matriz de confusão todas as métricas.\n",
    "    :param matriz_confusao: Matriz de confusão do tipo Numpy NDArray (como o retornado pela função sklearn.metrics.multilabel_confusion_matrix). \n",
    "    :return: Dicionário com todas as métricas utilizadas.\n",
    "    \"\"\"\n",
    "    ordem_atributo_saida = []\n",
    "    for i in y:\n",
    "        if not i in ordem_atributo_saida:\n",
    "            ordem_atributo_saida.append(i)\n",
    "\n",
    "    metricas = []\n",
    "    for indice, elemento in enumerate(matriz_confusao):\n",
    "        vn, fp, fn, vp = elemento.ravel()\n",
    "        tvp = vp / (vp + fn)\n",
    "        tvn = vn / (vn + fp)\n",
    "        tfp = fp / (fp + vn)\n",
    "        tfn = fn / (fn + vp)\n",
    "        precisao = vp / (vp + fp)\n",
    "        sensibilidade = vp / (vp + fn)\n",
    "        acuracia = (vp + vn) / (vp + vn + fp + fn)\n",
    "        f_measure = 2*precisao*sensibilidade/(precisao + sensibilidade)\n",
    "        metricas.append({\n",
    "            'Classe': ordem_atributo_saida[indice],\n",
    "            'VN':vn,\n",
    "            'FP': fp,\n",
    "            'FN': fn,\n",
    "            'VP': vp,\n",
    "            'TVP': tvp,\n",
    "            'TVN': tvn,\n",
    "            'TFP': tfp,\n",
    "            'TFN': tfn,\n",
    "            'PR': precisao,\n",
    "            'SENS': sensibilidade,\n",
    "            'AC': acuracia,\n",
    "            'FM': f_measure\n",
    "        })\n",
    "    return metricas"
   ]
  },
  {
   "cell_type": "code",
   "execution_count": 17,
   "id": "1b768628",
   "metadata": {},
   "outputs": [],
   "source": [
    "matriz_de_confusao = sklearn.metrics.multilabel_confusion_matrix(y_test_, predicoes_)"
   ]
  },
  {
   "cell_type": "code",
   "execution_count": 18,
   "id": "a8e9338f",
   "metadata": {},
   "outputs": [],
   "source": [
    "metricas = obter_metricas(matriz_de_confusao, y_test_)"
   ]
  },
  {
   "cell_type": "code",
   "execution_count": 19,
   "id": "0fa78084",
   "metadata": {},
   "outputs": [],
   "source": [
    "def calcular_medias_metricas(metricas: list):\n",
    "    \"\"\"\n",
    "    Calcula a média de todas as métricas.\n",
    "    :param metricas: Lista de dicionários com as métricas.\n",
    "    :return: Dicionário com a média de todas as métricas.\n",
    "    \"\"\"\n",
    "    quantidade_classes = len(metricas)\n",
    "\n",
    "    # Somando todas as métricas\n",
    "    media = {}\n",
    "    for classe_i in metricas:\n",
    "        for chave_metrica_j_classe_i in classe_i.keys():\n",
    "            if chave_metrica_j_classe_i != 'Classe':\n",
    "                if not chave_metrica_j_classe_i in media:\n",
    "                    media[chave_metrica_j_classe_i] = 0\n",
    "                media [chave_metrica_j_classe_i] += classe_i[chave_metrica_j_classe_i]\n",
    "\n",
    "    # Dividindo as métricas pelo número de classes\n",
    "    for chave in media.keys():\n",
    "        media[chave] /= quantidade_classes\n",
    "\n",
    "    return media"
   ]
  },
  {
   "cell_type": "code",
   "execution_count": 20,
   "id": "980de59f",
   "metadata": {},
   "outputs": [
    {
     "data": {
      "text/plain": [
       "{'VN': 4613.166666666667,\n",
       " 'FP': 37.666666666666664,\n",
       " 'FN': 37.666666666666664,\n",
       " 'VP': 892.5,\n",
       " 'TVP': 0.8993029942974969,\n",
       " 'TVN': 0.9807208072160782,\n",
       " 'TFP': 0.019279192783921716,\n",
       " 'TFN': 0.10069700570250299,\n",
       " 'PR': 0.9328230136088257,\n",
       " 'SENS': 0.8993029942974969,\n",
       " 'AC': 0.9865018216568119,\n",
       " 'FM': 0.9149068540667632}"
      ]
     },
     "execution_count": 20,
     "metadata": {},
     "output_type": "execute_result"
    }
   ],
   "source": [
    "calcular_medias_metricas(metricas)"
   ]
  },
  {
   "cell_type": "code",
   "execution_count": null,
   "id": "7d170f3a",
   "metadata": {},
   "outputs": [],
   "source": []
  }
 ],
 "metadata": {
  "kernelspec": {
   "display_name": "Python 3 (ipykernel)",
   "language": "python",
   "name": "python3"
  },
  "language_info": {
   "codemirror_mode": {
    "name": "ipython",
    "version": 3
   },
   "file_extension": ".py",
   "mimetype": "text/x-python",
   "name": "python",
   "nbconvert_exporter": "python",
   "pygments_lexer": "ipython3",
   "version": "3.12.3"
  }
 },
 "nbformat": 4,
 "nbformat_minor": 5
}
