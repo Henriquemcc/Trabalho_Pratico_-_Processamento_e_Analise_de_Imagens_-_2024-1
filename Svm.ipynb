{
 "cells": [
  {
   "cell_type": "markdown",
   "metadata": {},
   "source": [
    "# SVM"
   ]
  },
  {
   "cell_type": "markdown",
   "metadata": {},
   "source": [
    "Instalando requisitos"
   ]
  },
  {
   "cell_type": "code",
   "execution_count": 1,
   "metadata": {
    "ExecuteTime": {
     "end_time": "2024-05-27T22:07:27.369378Z",
     "start_time": "2024-05-27T22:07:11.311269Z"
    }
   },
   "outputs": [
    {
     "name": "stdout",
     "output_type": "stream",
     "text": [
      "Note: you may need to restart the kernel to use updated packages.\n",
      "Note: you may need to restart the kernel to use updated packages.\n",
      "Note: you may need to restart the kernel to use updated packages.\n",
      "Note: you may need to restart the kernel to use updated packages.\n",
      "Note: you may need to restart the kernel to use updated packages.\n"
     ]
    }
   ],
   "source": [
    "%pip install -r requirements.txt -q\n",
    "%pip install pandas -q\n",
    "%pip install scikit-learn -q\n",
    "%pip install tensorflow -q\n",
    "%pip install numpy -q"
   ]
  },
  {
   "cell_type": "markdown",
   "metadata": {},
   "source": [
    "Importando requisitos"
   ]
  },
  {
   "cell_type": "code",
   "execution_count": 2,
   "metadata": {
    "ExecuteTime": {
     "end_time": "2024-05-27T22:07:32.150174Z",
     "start_time": "2024-05-27T22:07:27.372735Z"
    }
   },
   "outputs": [
    {
     "name": "stderr",
     "output_type": "stream",
     "text": [
      "2024-06-04 20:24:58.916897: I tensorflow/core/platform/cpu_feature_guard.cc:210] This TensorFlow binary is optimized to use available CPU instructions in performance-critical operations.\n",
      "To enable the following instructions: AVX2 FMA, in other operations, rebuild TensorFlow with the appropriate compiler flags.\n",
      "2024-06-04 20:25:09.193361: W tensorflow/compiler/tf2tensorrt/utils/py_utils.cc:38] TF-TRT Warning: Could not find TensorRT\n"
     ]
    }
   ],
   "source": [
    "from app.modelo.imagem_rgb import ImagemRGB\n",
    "import sklearn.model_selection\n",
    "import pandas\n",
    "import tensorflow\n",
    "import os\n",
    "import numpy\n",
    "import pickle\n",
    "import random\n",
    "from sklearn import svm"
   ]
  },
  {
   "cell_type": "markdown",
   "metadata": {},
   "source": [
    "Definindo variáveis"
   ]
  },
  {
   "cell_type": "code",
   "execution_count": 3,
   "metadata": {},
   "outputs": [],
   "source": [
    "image_directory = os.path.join(os.getcwd(), 'dataset_converted')\n",
    "num_classes = 6"
   ]
  },
  {
   "cell_type": "markdown",
   "metadata": {},
   "source": [
    "Abrindo base de dados"
   ]
  },
  {
   "cell_type": "code",
   "execution_count": 4,
   "metadata": {
    "ExecuteTime": {
     "end_time": "2024-05-27T22:07:32.178614Z",
     "start_time": "2024-05-27T22:07:32.152120Z"
    }
   },
   "outputs": [],
   "source": [
    "data_frame = pandas.read_csv(\"classifications.csv\")"
   ]
  },
  {
   "cell_type": "markdown",
   "metadata": {},
   "source": [
    "Adicionando coluna path"
   ]
  },
  {
   "cell_type": "code",
   "execution_count": 5,
   "metadata": {},
   "outputs": [],
   "source": [
    "for index, row in data_frame.iterrows():\n",
    "    data_frame.at[index, 'path'] = os.path.join(image_directory, row['bethesda_system'], \"{}.png\".format(row['cell_id']))"
   ]
  },
  {
   "cell_type": "code",
   "execution_count": 6,
   "metadata": {},
   "outputs": [
    {
     "data": {
      "text/html": [
       "<div>\n",
       "<style scoped>\n",
       "    .dataframe tbody tr th:only-of-type {\n",
       "        vertical-align: middle;\n",
       "    }\n",
       "\n",
       "    .dataframe tbody tr th {\n",
       "        vertical-align: top;\n",
       "    }\n",
       "\n",
       "    .dataframe thead th {\n",
       "        text-align: right;\n",
       "    }\n",
       "</style>\n",
       "<table border=\"1\" class=\"dataframe\">\n",
       "  <thead>\n",
       "    <tr style=\"text-align: right;\">\n",
       "      <th></th>\n",
       "      <th>image_id</th>\n",
       "      <th>image_filename</th>\n",
       "      <th>image_doi</th>\n",
       "      <th>cell_id</th>\n",
       "      <th>bethesda_system</th>\n",
       "      <th>nucleus_x</th>\n",
       "      <th>nucleus_y</th>\n",
       "      <th>path</th>\n",
       "    </tr>\n",
       "  </thead>\n",
       "  <tbody>\n",
       "    <tr>\n",
       "      <th>0</th>\n",
       "      <td>400</td>\n",
       "      <td>9ae8a4edde40219bad6303cebc672ee4.png</td>\n",
       "      <td>10.6084/m9.figshare.12230906</td>\n",
       "      <td>1</td>\n",
       "      <td>SCC</td>\n",
       "      <td>792</td>\n",
       "      <td>462</td>\n",
       "      <td>/mnt/home/henrique/Repositorios_Git/GitHub.com...</td>\n",
       "    </tr>\n",
       "    <tr>\n",
       "      <th>1</th>\n",
       "      <td>400</td>\n",
       "      <td>9ae8a4edde40219bad6303cebc672ee4.png</td>\n",
       "      <td>10.6084/m9.figshare.12230906</td>\n",
       "      <td>2</td>\n",
       "      <td>SCC</td>\n",
       "      <td>601</td>\n",
       "      <td>678</td>\n",
       "      <td>/mnt/home/henrique/Repositorios_Git/GitHub.com...</td>\n",
       "    </tr>\n",
       "    <tr>\n",
       "      <th>2</th>\n",
       "      <td>400</td>\n",
       "      <td>9ae8a4edde40219bad6303cebc672ee4.png</td>\n",
       "      <td>10.6084/m9.figshare.12230906</td>\n",
       "      <td>3</td>\n",
       "      <td>SCC</td>\n",
       "      <td>363</td>\n",
       "      <td>467</td>\n",
       "      <td>/mnt/home/henrique/Repositorios_Git/GitHub.com...</td>\n",
       "    </tr>\n",
       "    <tr>\n",
       "      <th>3</th>\n",
       "      <td>400</td>\n",
       "      <td>9ae8a4edde40219bad6303cebc672ee4.png</td>\n",
       "      <td>10.6084/m9.figshare.12230906</td>\n",
       "      <td>4</td>\n",
       "      <td>SCC</td>\n",
       "      <td>599</td>\n",
       "      <td>437</td>\n",
       "      <td>/mnt/home/henrique/Repositorios_Git/GitHub.com...</td>\n",
       "    </tr>\n",
       "    <tr>\n",
       "      <th>4</th>\n",
       "      <td>400</td>\n",
       "      <td>9ae8a4edde40219bad6303cebc672ee4.png</td>\n",
       "      <td>10.6084/m9.figshare.12230906</td>\n",
       "      <td>5</td>\n",
       "      <td>Negative for intraepithelial lesion</td>\n",
       "      <td>1186</td>\n",
       "      <td>450</td>\n",
       "      <td>/mnt/home/henrique/Repositorios_Git/GitHub.com...</td>\n",
       "    </tr>\n",
       "    <tr>\n",
       "      <th>...</th>\n",
       "      <td>...</td>\n",
       "      <td>...</td>\n",
       "      <td>...</td>\n",
       "      <td>...</td>\n",
       "      <td>...</td>\n",
       "      <td>...</td>\n",
       "      <td>...</td>\n",
       "      <td>...</td>\n",
       "    </tr>\n",
       "    <tr>\n",
       "      <th>11529</th>\n",
       "      <td>1</td>\n",
       "      <td>be340ee72689dfe3f8dc9c24de6127f4.png</td>\n",
       "      <td>10.6084/m9.figshare.12229511</td>\n",
       "      <td>11530</td>\n",
       "      <td>LSIL</td>\n",
       "      <td>618</td>\n",
       "      <td>407</td>\n",
       "      <td>/mnt/home/henrique/Repositorios_Git/GitHub.com...</td>\n",
       "    </tr>\n",
       "    <tr>\n",
       "      <th>11530</th>\n",
       "      <td>1</td>\n",
       "      <td>be340ee72689dfe3f8dc9c24de6127f4.png</td>\n",
       "      <td>10.6084/m9.figshare.12229511</td>\n",
       "      <td>11531</td>\n",
       "      <td>LSIL</td>\n",
       "      <td>607</td>\n",
       "      <td>374</td>\n",
       "      <td>/mnt/home/henrique/Repositorios_Git/GitHub.com...</td>\n",
       "    </tr>\n",
       "    <tr>\n",
       "      <th>11531</th>\n",
       "      <td>1</td>\n",
       "      <td>be340ee72689dfe3f8dc9c24de6127f4.png</td>\n",
       "      <td>10.6084/m9.figshare.12229511</td>\n",
       "      <td>11532</td>\n",
       "      <td>LSIL</td>\n",
       "      <td>707</td>\n",
       "      <td>251</td>\n",
       "      <td>/mnt/home/henrique/Repositorios_Git/GitHub.com...</td>\n",
       "    </tr>\n",
       "    <tr>\n",
       "      <th>11532</th>\n",
       "      <td>1</td>\n",
       "      <td>be340ee72689dfe3f8dc9c24de6127f4.png</td>\n",
       "      <td>10.6084/m9.figshare.12229511</td>\n",
       "      <td>11533</td>\n",
       "      <td>LSIL</td>\n",
       "      <td>579</td>\n",
       "      <td>246</td>\n",
       "      <td>/mnt/home/henrique/Repositorios_Git/GitHub.com...</td>\n",
       "    </tr>\n",
       "    <tr>\n",
       "      <th>11533</th>\n",
       "      <td>1</td>\n",
       "      <td>be340ee72689dfe3f8dc9c24de6127f4.png</td>\n",
       "      <td>10.6084/m9.figshare.12229511</td>\n",
       "      <td>11534</td>\n",
       "      <td>Negative for intraepithelial lesion</td>\n",
       "      <td>227</td>\n",
       "      <td>130</td>\n",
       "      <td>/mnt/home/henrique/Repositorios_Git/GitHub.com...</td>\n",
       "    </tr>\n",
       "  </tbody>\n",
       "</table>\n",
       "<p>11534 rows × 8 columns</p>\n",
       "</div>"
      ],
      "text/plain": [
       "       image_id                        image_filename  \\\n",
       "0           400  9ae8a4edde40219bad6303cebc672ee4.png   \n",
       "1           400  9ae8a4edde40219bad6303cebc672ee4.png   \n",
       "2           400  9ae8a4edde40219bad6303cebc672ee4.png   \n",
       "3           400  9ae8a4edde40219bad6303cebc672ee4.png   \n",
       "4           400  9ae8a4edde40219bad6303cebc672ee4.png   \n",
       "...         ...                                   ...   \n",
       "11529         1  be340ee72689dfe3f8dc9c24de6127f4.png   \n",
       "11530         1  be340ee72689dfe3f8dc9c24de6127f4.png   \n",
       "11531         1  be340ee72689dfe3f8dc9c24de6127f4.png   \n",
       "11532         1  be340ee72689dfe3f8dc9c24de6127f4.png   \n",
       "11533         1  be340ee72689dfe3f8dc9c24de6127f4.png   \n",
       "\n",
       "                          image_doi  cell_id  \\\n",
       "0      10.6084/m9.figshare.12230906        1   \n",
       "1      10.6084/m9.figshare.12230906        2   \n",
       "2      10.6084/m9.figshare.12230906        3   \n",
       "3      10.6084/m9.figshare.12230906        4   \n",
       "4      10.6084/m9.figshare.12230906        5   \n",
       "...                             ...      ...   \n",
       "11529  10.6084/m9.figshare.12229511    11530   \n",
       "11530  10.6084/m9.figshare.12229511    11531   \n",
       "11531  10.6084/m9.figshare.12229511    11532   \n",
       "11532  10.6084/m9.figshare.12229511    11533   \n",
       "11533  10.6084/m9.figshare.12229511    11534   \n",
       "\n",
       "                           bethesda_system  nucleus_x  nucleus_y  \\\n",
       "0                                      SCC        792        462   \n",
       "1                                      SCC        601        678   \n",
       "2                                      SCC        363        467   \n",
       "3                                      SCC        599        437   \n",
       "4      Negative for intraepithelial lesion       1186        450   \n",
       "...                                    ...        ...        ...   \n",
       "11529                                 LSIL        618        407   \n",
       "11530                                 LSIL        607        374   \n",
       "11531                                 LSIL        707        251   \n",
       "11532                                 LSIL        579        246   \n",
       "11533  Negative for intraepithelial lesion        227        130   \n",
       "\n",
       "                                                    path  \n",
       "0      /mnt/home/henrique/Repositorios_Git/GitHub.com...  \n",
       "1      /mnt/home/henrique/Repositorios_Git/GitHub.com...  \n",
       "2      /mnt/home/henrique/Repositorios_Git/GitHub.com...  \n",
       "3      /mnt/home/henrique/Repositorios_Git/GitHub.com...  \n",
       "4      /mnt/home/henrique/Repositorios_Git/GitHub.com...  \n",
       "...                                                  ...  \n",
       "11529  /mnt/home/henrique/Repositorios_Git/GitHub.com...  \n",
       "11530  /mnt/home/henrique/Repositorios_Git/GitHub.com...  \n",
       "11531  /mnt/home/henrique/Repositorios_Git/GitHub.com...  \n",
       "11532  /mnt/home/henrique/Repositorios_Git/GitHub.com...  \n",
       "11533  /mnt/home/henrique/Repositorios_Git/GitHub.com...  \n",
       "\n",
       "[11534 rows x 8 columns]"
      ]
     },
     "execution_count": 6,
     "metadata": {},
     "output_type": "execute_result"
    }
   ],
   "source": [
    "data_frame"
   ]
  },
  {
   "cell_type": "markdown",
   "metadata": {},
   "source": [
    "Adicionando coluna random e ordenando por meio dela"
   ]
  },
  {
   "cell_type": "code",
   "execution_count": 7,
   "metadata": {
    "ExecuteTime": {
     "end_time": "2024-05-27T22:07:32.206294Z",
     "start_time": "2024-05-27T22:07:32.182697Z"
    }
   },
   "outputs": [],
   "source": [
    "data_frame['random'] = data_frame[data_frame.columns[0]].apply(lambda _: random.random())"
   ]
  },
  {
   "cell_type": "code",
   "execution_count": 8,
   "metadata": {},
   "outputs": [],
   "source": [
    "data_frame.sort_values(\n",
    "    by='random',\n",
    "    inplace=True\n",
    ")"
   ]
  },
  {
   "cell_type": "markdown",
   "metadata": {},
   "source": [
    "Removendo imagens que não existem"
   ]
  },
  {
   "cell_type": "code",
   "execution_count": 9,
   "metadata": {},
   "outputs": [],
   "source": [
    "for index, row in data_frame.iterrows():\n",
    "    if not os.path.exists(row['path']):\n",
    "        data_frame.drop(index, inplace=True)"
   ]
  },
  {
   "cell_type": "code",
   "execution_count": 10,
   "metadata": {},
   "outputs": [
    {
     "data": {
      "text/html": [
       "<div>\n",
       "<style scoped>\n",
       "    .dataframe tbody tr th:only-of-type {\n",
       "        vertical-align: middle;\n",
       "    }\n",
       "\n",
       "    .dataframe tbody tr th {\n",
       "        vertical-align: top;\n",
       "    }\n",
       "\n",
       "    .dataframe thead th {\n",
       "        text-align: right;\n",
       "    }\n",
       "</style>\n",
       "<table border=\"1\" class=\"dataframe\">\n",
       "  <thead>\n",
       "    <tr style=\"text-align: right;\">\n",
       "      <th></th>\n",
       "      <th>image_id</th>\n",
       "      <th>image_filename</th>\n",
       "      <th>image_doi</th>\n",
       "      <th>cell_id</th>\n",
       "      <th>bethesda_system</th>\n",
       "      <th>nucleus_x</th>\n",
       "      <th>nucleus_y</th>\n",
       "      <th>path</th>\n",
       "      <th>random</th>\n",
       "    </tr>\n",
       "  </thead>\n",
       "  <tbody>\n",
       "    <tr>\n",
       "      <th>4014</th>\n",
       "      <td>248</td>\n",
       "      <td>a5ce47f6a10f543bf7fdac28b709d30d.png</td>\n",
       "      <td>10.6084/m9.figshare.12230393</td>\n",
       "      <td>4015</td>\n",
       "      <td>Negative for intraepithelial lesion</td>\n",
       "      <td>674</td>\n",
       "      <td>131</td>\n",
       "      <td>/mnt/home/henrique/Repositorios_Git/GitHub.com...</td>\n",
       "      <td>0.000156</td>\n",
       "    </tr>\n",
       "    <tr>\n",
       "      <th>10318</th>\n",
       "      <td>35</td>\n",
       "      <td>bf7767fb55e9b4e77ea458f825f06e65.png</td>\n",
       "      <td>10.6084/m9.figshare.12229628</td>\n",
       "      <td>10319</td>\n",
       "      <td>LSIL</td>\n",
       "      <td>426</td>\n",
       "      <td>467</td>\n",
       "      <td>/mnt/home/henrique/Repositorios_Git/GitHub.com...</td>\n",
       "      <td>0.000218</td>\n",
       "    </tr>\n",
       "    <tr>\n",
       "      <th>7417</th>\n",
       "      <td>111</td>\n",
       "      <td>e57d535d86c5898be4e897eaed05c8c6.png</td>\n",
       "      <td>10.6084/m9.figshare.12229901</td>\n",
       "      <td>7418</td>\n",
       "      <td>Negative for intraepithelial lesion</td>\n",
       "      <td>259</td>\n",
       "      <td>328</td>\n",
       "      <td>/mnt/home/henrique/Repositorios_Git/GitHub.com...</td>\n",
       "      <td>0.000269</td>\n",
       "    </tr>\n",
       "    <tr>\n",
       "      <th>4625</th>\n",
       "      <td>226</td>\n",
       "      <td>199ea9d75d6266bcc1be87995de6a70a.png</td>\n",
       "      <td>10.6084/m9.figshare.12230315</td>\n",
       "      <td>4626</td>\n",
       "      <td>Negative for intraepithelial lesion</td>\n",
       "      <td>506</td>\n",
       "      <td>167</td>\n",
       "      <td>/mnt/home/henrique/Repositorios_Git/GitHub.com...</td>\n",
       "      <td>0.000400</td>\n",
       "    </tr>\n",
       "    <tr>\n",
       "      <th>5694</th>\n",
       "      <td>160</td>\n",
       "      <td>fbb86fcc0948f02be36a1348d1046688.png</td>\n",
       "      <td>10.6084/m9.figshare.12230090</td>\n",
       "      <td>5695</td>\n",
       "      <td>Negative for intraepithelial lesion</td>\n",
       "      <td>272</td>\n",
       "      <td>672</td>\n",
       "      <td>/mnt/home/henrique/Repositorios_Git/GitHub.com...</td>\n",
       "      <td>0.000404</td>\n",
       "    </tr>\n",
       "    <tr>\n",
       "      <th>...</th>\n",
       "      <td>...</td>\n",
       "      <td>...</td>\n",
       "      <td>...</td>\n",
       "      <td>...</td>\n",
       "      <td>...</td>\n",
       "      <td>...</td>\n",
       "      <td>...</td>\n",
       "      <td>...</td>\n",
       "      <td>...</td>\n",
       "    </tr>\n",
       "    <tr>\n",
       "      <th>6239</th>\n",
       "      <td>143</td>\n",
       "      <td>c01b36e0a384197ca9a2e6bcd2c552e1.png</td>\n",
       "      <td>10.6084/m9.figshare.12230039</td>\n",
       "      <td>6240</td>\n",
       "      <td>Negative for intraepithelial lesion</td>\n",
       "      <td>1065</td>\n",
       "      <td>246</td>\n",
       "      <td>/mnt/home/henrique/Repositorios_Git/GitHub.com...</td>\n",
       "      <td>0.999131</td>\n",
       "    </tr>\n",
       "    <tr>\n",
       "      <th>7577</th>\n",
       "      <td>103</td>\n",
       "      <td>b0fddd5dbd774fcc23ddf897ee7bf26c.png</td>\n",
       "      <td>10.6084/m9.figshare.12229874</td>\n",
       "      <td>7578</td>\n",
       "      <td>Negative for intraepithelial lesion</td>\n",
       "      <td>860</td>\n",
       "      <td>974</td>\n",
       "      <td>/mnt/home/henrique/Repositorios_Git/GitHub.com...</td>\n",
       "      <td>0.999137</td>\n",
       "    </tr>\n",
       "    <tr>\n",
       "      <th>4281</th>\n",
       "      <td>237</td>\n",
       "      <td>8e39307fc74e68a5f4a6ae66764331b4.png</td>\n",
       "      <td>10.6084/m9.figshare.12230357</td>\n",
       "      <td>4282</td>\n",
       "      <td>LSIL</td>\n",
       "      <td>687</td>\n",
       "      <td>656</td>\n",
       "      <td>/mnt/home/henrique/Repositorios_Git/GitHub.com...</td>\n",
       "      <td>0.999247</td>\n",
       "    </tr>\n",
       "    <tr>\n",
       "      <th>10772</th>\n",
       "      <td>25</td>\n",
       "      <td>f981c4aac622d7cce71a81305dd38ade.png</td>\n",
       "      <td>10.6084/m9.figshare.12229598</td>\n",
       "      <td>10773</td>\n",
       "      <td>ASC-US</td>\n",
       "      <td>593</td>\n",
       "      <td>534</td>\n",
       "      <td>/mnt/home/henrique/Repositorios_Git/GitHub.com...</td>\n",
       "      <td>0.999362</td>\n",
       "    </tr>\n",
       "    <tr>\n",
       "      <th>8779</th>\n",
       "      <td>69</td>\n",
       "      <td>eb47620da7f5e3594085fb3279b1904a.png</td>\n",
       "      <td>10.6084/m9.figshare.12229733</td>\n",
       "      <td>8780</td>\n",
       "      <td>LSIL</td>\n",
       "      <td>1011</td>\n",
       "      <td>262</td>\n",
       "      <td>/mnt/home/henrique/Repositorios_Git/GitHub.com...</td>\n",
       "      <td>0.999791</td>\n",
       "    </tr>\n",
       "  </tbody>\n",
       "</table>\n",
       "<p>5581 rows × 9 columns</p>\n",
       "</div>"
      ],
      "text/plain": [
       "       image_id                        image_filename  \\\n",
       "4014        248  a5ce47f6a10f543bf7fdac28b709d30d.png   \n",
       "10318        35  bf7767fb55e9b4e77ea458f825f06e65.png   \n",
       "7417        111  e57d535d86c5898be4e897eaed05c8c6.png   \n",
       "4625        226  199ea9d75d6266bcc1be87995de6a70a.png   \n",
       "5694        160  fbb86fcc0948f02be36a1348d1046688.png   \n",
       "...         ...                                   ...   \n",
       "6239        143  c01b36e0a384197ca9a2e6bcd2c552e1.png   \n",
       "7577        103  b0fddd5dbd774fcc23ddf897ee7bf26c.png   \n",
       "4281        237  8e39307fc74e68a5f4a6ae66764331b4.png   \n",
       "10772        25  f981c4aac622d7cce71a81305dd38ade.png   \n",
       "8779         69  eb47620da7f5e3594085fb3279b1904a.png   \n",
       "\n",
       "                          image_doi  cell_id  \\\n",
       "4014   10.6084/m9.figshare.12230393     4015   \n",
       "10318  10.6084/m9.figshare.12229628    10319   \n",
       "7417   10.6084/m9.figshare.12229901     7418   \n",
       "4625   10.6084/m9.figshare.12230315     4626   \n",
       "5694   10.6084/m9.figshare.12230090     5695   \n",
       "...                             ...      ...   \n",
       "6239   10.6084/m9.figshare.12230039     6240   \n",
       "7577   10.6084/m9.figshare.12229874     7578   \n",
       "4281   10.6084/m9.figshare.12230357     4282   \n",
       "10772  10.6084/m9.figshare.12229598    10773   \n",
       "8779   10.6084/m9.figshare.12229733     8780   \n",
       "\n",
       "                           bethesda_system  nucleus_x  nucleus_y  \\\n",
       "4014   Negative for intraepithelial lesion        674        131   \n",
       "10318                                 LSIL        426        467   \n",
       "7417   Negative for intraepithelial lesion        259        328   \n",
       "4625   Negative for intraepithelial lesion        506        167   \n",
       "5694   Negative for intraepithelial lesion        272        672   \n",
       "...                                    ...        ...        ...   \n",
       "6239   Negative for intraepithelial lesion       1065        246   \n",
       "7577   Negative for intraepithelial lesion        860        974   \n",
       "4281                                  LSIL        687        656   \n",
       "10772                               ASC-US        593        534   \n",
       "8779                                  LSIL       1011        262   \n",
       "\n",
       "                                                    path    random  \n",
       "4014   /mnt/home/henrique/Repositorios_Git/GitHub.com...  0.000156  \n",
       "10318  /mnt/home/henrique/Repositorios_Git/GitHub.com...  0.000218  \n",
       "7417   /mnt/home/henrique/Repositorios_Git/GitHub.com...  0.000269  \n",
       "4625   /mnt/home/henrique/Repositorios_Git/GitHub.com...  0.000400  \n",
       "5694   /mnt/home/henrique/Repositorios_Git/GitHub.com...  0.000404  \n",
       "...                                                  ...       ...  \n",
       "6239   /mnt/home/henrique/Repositorios_Git/GitHub.com...  0.999131  \n",
       "7577   /mnt/home/henrique/Repositorios_Git/GitHub.com...  0.999137  \n",
       "4281   /mnt/home/henrique/Repositorios_Git/GitHub.com...  0.999247  \n",
       "10772  /mnt/home/henrique/Repositorios_Git/GitHub.com...  0.999362  \n",
       "8779   /mnt/home/henrique/Repositorios_Git/GitHub.com...  0.999791  \n",
       "\n",
       "[5581 rows x 9 columns]"
      ]
     },
     "execution_count": 10,
     "metadata": {},
     "output_type": "execute_result"
    }
   ],
   "source": [
    "data_frame"
   ]
  },
  {
   "cell_type": "markdown",
   "metadata": {},
   "source": [
    "Separando o x"
   ]
  },
  {
   "cell_type": "code",
   "execution_count": 11,
   "metadata": {},
   "outputs": [
    {
     "data": {
      "text/plain": [
       "'/mnt/home/henrique/Repositorios_Git/GitHub.com/Henriquemcc/Ciencia da Computacao/Trabalho_Pratico_-_Processamento_e_Analise_de_Imagens_-_2024-1/develop_henrique_2024_06_01/dataset_converted/Negative for intraepithelial lesion/4015.png'"
      ]
     },
     "execution_count": 11,
     "metadata": {},
     "output_type": "execute_result"
    }
   ],
   "source": [
    "data_frame['path'].iloc[0]"
   ]
  },
  {
   "cell_type": "code",
   "execution_count": 12,
   "metadata": {},
   "outputs": [
    {
     "data": {
      "text/plain": [
       "array([225, 192, 208, ..., 235, 224, 224], dtype=uint8)"
      ]
     },
     "execution_count": 12,
     "metadata": {},
     "output_type": "execute_result"
    }
   ],
   "source": [
    "xi = ImagemRGB.from_file(data_frame['path'].iloc[0]).matriz.flatten()\n",
    "xi"
   ]
  },
  {
   "cell_type": "code",
   "execution_count": 14,
   "metadata": {},
   "outputs": [
    {
     "data": {
      "text/plain": [
       "(30000,)"
      ]
     },
     "execution_count": 14,
     "metadata": {},
     "output_type": "execute_result"
    }
   ],
   "source": [
    "xi.shape"
   ]
  },
  {
   "cell_type": "code",
   "execution_count": 23,
   "metadata": {},
   "outputs": [],
   "source": [
    "x = []\n",
    "for index, row in data_frame.iterrows():\n",
    "    image = ImagemRGB.from_file(row['path'])\n",
    "    x.append(image.matriz.flatten()/255)\n",
    "x = numpy.array(x)"
   ]
  },
  {
   "cell_type": "code",
   "execution_count": 25,
   "metadata": {},
   "outputs": [
    {
     "data": {
      "text/plain": [
       "(5581, 30000)"
      ]
     },
     "execution_count": 25,
     "metadata": {},
     "output_type": "execute_result"
    }
   ],
   "source": [
    "x.shape"
   ]
  },
  {
   "cell_type": "code",
   "execution_count": 26,
   "metadata": {},
   "outputs": [
    {
     "data": {
      "text/plain": [
       "array([[0.88235294, 0.75294118, 0.81568627, ..., 0.92156863, 0.87843137,\n",
       "        0.87843137],\n",
       "       [0.47058824, 0.22352941, 0.20784314, ..., 0.4       , 0.41568627,\n",
       "        0.30980392],\n",
       "       [0.03921569, 0.07843137, 0.24313725, ..., 0.31764706, 0.56862745,\n",
       "        0.61176471],\n",
       "       ...,\n",
       "       [0.6745098 , 0.44705882, 0.49411765, ..., 0.95686275, 0.96862745,\n",
       "        0.96470588],\n",
       "       [0.24313725, 0.14509804, 0.28235294, ..., 0.63137255, 0.69411765,\n",
       "        0.7372549 ],\n",
       "       [0.44313725, 0.28627451, 0.17647059, ..., 0.84313725, 0.86666667,\n",
       "        0.85882353]])"
      ]
     },
     "execution_count": 26,
     "metadata": {},
     "output_type": "execute_result"
    }
   ],
   "source": [
    "x"
   ]
  },
  {
   "cell_type": "markdown",
   "metadata": {},
   "source": [
    "Separando o y"
   ]
  },
  {
   "cell_type": "code",
   "execution_count": 49,
   "metadata": {
    "ExecuteTime": {
     "end_time": "2024-05-27T22:07:32.231453Z",
     "start_time": "2024-05-27T22:07:32.227388Z"
    }
   },
   "outputs": [],
   "source": [
    "y = data_frame.iloc[:, 4].values\n",
    "#label_encoder = sklearn.preprocessing.LabelEncoder()\n",
    "#y = label_encoder.fit_transform(y)"
   ]
  },
  {
   "cell_type": "code",
   "execution_count": 50,
   "metadata": {},
   "outputs": [],
   "source": [
    "labels = list(set(data_frame.iloc[:, 4].values))"
   ]
  },
  {
   "cell_type": "code",
   "execution_count": 51,
   "metadata": {},
   "outputs": [
    {
     "data": {
      "text/plain": [
       "['Negative for intraepithelial lesion',\n",
       " 'SCC',\n",
       " 'ASC-US',\n",
       " 'HSIL',\n",
       " 'LSIL',\n",
       " 'ASC-H']"
      ]
     },
     "execution_count": 51,
     "metadata": {},
     "output_type": "execute_result"
    }
   ],
   "source": [
    "labels"
   ]
  },
  {
   "cell_type": "code",
   "execution_count": 56,
   "metadata": {},
   "outputs": [],
   "source": [
    "y = [[1 if label==lbl else 0 for lbl in labels] for label in y]"
   ]
  },
  {
   "cell_type": "code",
   "execution_count": 62,
   "metadata": {},
   "outputs": [],
   "source": [
    "y = numpy.array(y)"
   ]
  },
  {
   "cell_type": "code",
   "execution_count": 64,
   "metadata": {},
   "outputs": [
    {
     "data": {
      "text/plain": [
       "array([[1, 0, 0, 0, 0, 0],\n",
       "       [0, 0, 0, 0, 1, 0],\n",
       "       [1, 0, 0, 0, 0, 0],\n",
       "       ...,\n",
       "       [0, 0, 0, 0, 1, 0],\n",
       "       [0, 0, 1, 0, 0, 0],\n",
       "       [0, 0, 0, 0, 1, 0]])"
      ]
     },
     "execution_count": 64,
     "metadata": {},
     "output_type": "execute_result"
    }
   ],
   "source": [
    "y"
   ]
  },
  {
   "cell_type": "code",
   "execution_count": 65,
   "metadata": {},
   "outputs": [
    {
     "data": {
      "text/plain": [
       "numpy.ndarray"
      ]
     },
     "execution_count": 65,
     "metadata": {},
     "output_type": "execute_result"
    }
   ],
   "source": [
    "type(y)"
   ]
  },
  {
   "cell_type": "code",
   "execution_count": 69,
   "metadata": {
    "ExecuteTime": {
     "end_time": "2024-05-27T22:07:32.237687Z",
     "start_time": "2024-05-27T22:07:32.233211Z"
    }
   },
   "outputs": [
    {
     "data": {
      "text/plain": [
       "(5581, 6)"
      ]
     },
     "execution_count": 69,
     "metadata": {},
     "output_type": "execute_result"
    }
   ],
   "source": [
    "y.shape"
   ]
  },
  {
   "cell_type": "markdown",
   "metadata": {},
   "source": [
    "Separando o conjunto de treino e teste"
   ]
  },
  {
   "cell_type": "code",
   "execution_count": 70,
   "metadata": {
    "ExecuteTime": {
     "end_time": "2024-05-27T22:07:32.245398Z",
     "start_time": "2024-05-27T22:07:32.239332Z"
    }
   },
   "outputs": [],
   "source": [
    "x_train, x_test, y_train, y_test = sklearn.model_selection.train_test_split(x, y)"
   ]
  },
  {
   "cell_type": "code",
   "execution_count": 71,
   "metadata": {},
   "outputs": [
    {
     "data": {
      "text/plain": [
       "array([[1, 0, 0, 0, 0, 0],\n",
       "       [1, 0, 0, 0, 0, 0],\n",
       "       [1, 0, 0, 0, 0, 0],\n",
       "       ...,\n",
       "       [0, 0, 0, 0, 1, 0],\n",
       "       [1, 0, 0, 0, 0, 0],\n",
       "       [1, 0, 0, 0, 0, 0]])"
      ]
     },
     "execution_count": 71,
     "metadata": {},
     "output_type": "execute_result"
    }
   ],
   "source": [
    "y_train"
   ]
  },
  {
   "cell_type": "code",
   "execution_count": 72,
   "metadata": {},
   "outputs": [
    {
     "data": {
      "text/plain": [
       "(4185, 30000)"
      ]
     },
     "execution_count": 72,
     "metadata": {},
     "output_type": "execute_result"
    }
   ],
   "source": [
    "x_train.shape"
   ]
  },
  {
   "cell_type": "code",
   "execution_count": 73,
   "metadata": {},
   "outputs": [
    {
     "data": {
      "text/plain": [
       "(4185, 6)"
      ]
     },
     "execution_count": 73,
     "metadata": {},
     "output_type": "execute_result"
    }
   ],
   "source": [
    "y_train.shape"
   ]
  },
  {
   "cell_type": "code",
   "execution_count": 74,
   "metadata": {},
   "outputs": [
    {
     "data": {
      "text/plain": [
       "(1396, 30000)"
      ]
     },
     "execution_count": 74,
     "metadata": {},
     "output_type": "execute_result"
    }
   ],
   "source": [
    "x_test.shape"
   ]
  },
  {
   "cell_type": "code",
   "execution_count": 75,
   "metadata": {},
   "outputs": [
    {
     "data": {
      "text/plain": [
       "(1396, 6)"
      ]
     },
     "execution_count": 75,
     "metadata": {},
     "output_type": "execute_result"
    }
   ],
   "source": [
    "y_test.shape"
   ]
  },
  {
   "cell_type": "markdown",
   "metadata": {},
   "source": [
    "Exportando x_test, x_train, y_test, y_train para um arquivo externo"
   ]
  },
  {
   "cell_type": "code",
   "execution_count": 76,
   "metadata": {},
   "outputs": [],
   "source": [
    "#with open('data.pkl', mode='wb') as file:\n",
    "    #pickle.dump([x_train, x_test, y_train, y_test], file)"
   ]
  },
  {
   "cell_type": "markdown",
   "metadata": {},
   "source": [
    "# Aplicando o SVM"
   ]
  },
  {
   "cell_type": "markdown",
   "metadata": {},
   "source": [
    "Construindo o modelo"
   ]
  },
  {
   "cell_type": "code",
   "execution_count": 77,
   "metadata": {},
   "outputs": [],
   "source": [
    "modelo = svm.SVC()"
   ]
  },
  {
   "cell_type": "markdown",
   "metadata": {},
   "source": [
    "Treinando o modelo"
   ]
  },
  {
   "cell_type": "code",
   "execution_count": 78,
   "metadata": {},
   "outputs": [],
   "source": [
    "modelo.fit(x_train, y_train)"
   ]
  },
  {
   "cell_type": "code",
   "execution_count": 81,
   "metadata": {},
   "outputs": [
    {
     "data": {
      "text/plain": [
       "['modelo.pkl']"
      ]
     },
     "execution_count": 81,
     "metadata": {},
     "output_type": "execute_result"
    }
   ],
   "source": [
    "import joblib\n",
    "joblib.dump(modelo, 'modelo.pkl')"
   ]
  },
  {
   "cell_type": "code",
   "execution_count": 82,
   "metadata": {},
   "outputs": [],
   "source": [
    "with open('modelo.pkl', mode='wb') as file:\n",
    "    pickle.dump(modelo, file)"
   ]
  },
  {
   "cell_type": "code",
   "execution_count": null,
   "metadata": {},
   "outputs": [],
   "source": []
  }
 ],
 "metadata": {
  "kernelspec": {
   "display_name": "venv",
   "language": "python",
   "name": "python3"
  },
  "language_info": {
   "codemirror_mode": {
    "name": "ipython",
    "version": 3
   },
   "file_extension": ".py",
   "mimetype": "text/x-python",
   "name": "python",
   "nbconvert_exporter": "python",
   "pygments_lexer": "ipython3",
   "version": "3.11.7"
  }
 },
 "nbformat": 4,
 "nbformat_minor": 2
}
