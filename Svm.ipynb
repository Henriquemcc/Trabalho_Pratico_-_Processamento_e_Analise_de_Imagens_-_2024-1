{
 "cells": [
  {
   "cell_type": "markdown",
   "metadata": {},
   "source": [
    "# SVM"
   ]
  },
  {
   "cell_type": "markdown",
   "metadata": {},
   "source": [
    "Instalando requisitos"
   ]
  },
  {
   "cell_type": "code",
   "execution_count": 1,
   "metadata": {
    "ExecuteTime": {
     "end_time": "2024-05-27T22:07:27.369378Z",
     "start_time": "2024-05-27T22:07:11.311269Z"
    }
   },
   "outputs": [
    {
     "name": "stdout",
     "output_type": "stream",
     "text": [
      "Note: you may need to restart the kernel to use updated packages.\n",
      "Note: you may need to restart the kernel to use updated packages.\n",
      "Note: you may need to restart the kernel to use updated packages.\n",
      "Note: you may need to restart the kernel to use updated packages.\n",
      "Note: you may need to restart the kernel to use updated packages.\n"
     ]
    }
   ],
   "source": [
    "%pip install -r requirements.txt -q\n",
    "%pip install pandas -q\n",
    "%pip install scikit-learn -q\n",
    "%pip install tensorflow -q\n",
    "%pip install numpy -q"
   ]
  },
  {
   "cell_type": "markdown",
   "metadata": {},
   "source": [
    "Importando requisitos"
   ]
  },
  {
   "cell_type": "code",
   "execution_count": 2,
   "metadata": {
    "ExecuteTime": {
     "end_time": "2024-05-27T22:07:32.150174Z",
     "start_time": "2024-05-27T22:07:27.372735Z"
    }
   },
   "outputs": [
    {
     "name": "stderr",
     "output_type": "stream",
     "text": [
      "2024-06-05 10:32:33.329055: I tensorflow/core/platform/cpu_feature_guard.cc:210] This TensorFlow binary is optimized to use available CPU instructions in performance-critical operations.\n",
      "To enable the following instructions: AVX2 FMA, in other operations, rebuild TensorFlow with the appropriate compiler flags.\n",
      "2024-06-05 10:32:41.891195: W tensorflow/compiler/tf2tensorrt/utils/py_utils.cc:38] TF-TRT Warning: Could not find TensorRT\n"
     ]
    }
   ],
   "source": [
    "from app.modelo.imagem_rgb import ImagemRGB\n",
    "import sklearn.model_selection\n",
    "import pandas\n",
    "import tensorflow\n",
    "import os\n",
    "import numpy\n",
    "import pickle\n",
    "import random\n",
    "from sklearn import svm"
   ]
  },
  {
   "cell_type": "markdown",
   "metadata": {},
   "source": [
    "Definindo variáveis"
   ]
  },
  {
   "cell_type": "code",
   "execution_count": 3,
   "metadata": {},
   "outputs": [],
   "source": [
    "image_directory = os.path.join(os.getcwd(), 'dataset_converted')\n",
    "num_classes = 6"
   ]
  },
  {
   "cell_type": "markdown",
   "metadata": {},
   "source": [
    "Abrindo base de dados"
   ]
  },
  {
   "cell_type": "code",
   "execution_count": 4,
   "metadata": {
    "ExecuteTime": {
     "end_time": "2024-05-27T22:07:32.178614Z",
     "start_time": "2024-05-27T22:07:32.152120Z"
    }
   },
   "outputs": [],
   "source": [
    "data_frame = pandas.read_csv(\"classifications.csv\")"
   ]
  },
  {
   "cell_type": "markdown",
   "metadata": {},
   "source": [
    "Adicionando coluna path"
   ]
  },
  {
   "cell_type": "code",
   "execution_count": 5,
   "metadata": {},
   "outputs": [],
   "source": [
    "for index, row in data_frame.iterrows():\n",
    "    data_frame.at[index, 'path'] = os.path.join(image_directory, row['bethesda_system'], \"{}.png\".format(row['cell_id']))"
   ]
  },
  {
   "cell_type": "code",
   "execution_count": 6,
   "metadata": {},
   "outputs": [
    {
     "data": {
      "text/html": [
       "<div>\n",
       "<style scoped>\n",
       "    .dataframe tbody tr th:only-of-type {\n",
       "        vertical-align: middle;\n",
       "    }\n",
       "\n",
       "    .dataframe tbody tr th {\n",
       "        vertical-align: top;\n",
       "    }\n",
       "\n",
       "    .dataframe thead th {\n",
       "        text-align: right;\n",
       "    }\n",
       "</style>\n",
       "<table border=\"1\" class=\"dataframe\">\n",
       "  <thead>\n",
       "    <tr style=\"text-align: right;\">\n",
       "      <th></th>\n",
       "      <th>image_id</th>\n",
       "      <th>image_filename</th>\n",
       "      <th>image_doi</th>\n",
       "      <th>cell_id</th>\n",
       "      <th>bethesda_system</th>\n",
       "      <th>nucleus_x</th>\n",
       "      <th>nucleus_y</th>\n",
       "      <th>path</th>\n",
       "    </tr>\n",
       "  </thead>\n",
       "  <tbody>\n",
       "    <tr>\n",
       "      <th>0</th>\n",
       "      <td>400</td>\n",
       "      <td>9ae8a4edde40219bad6303cebc672ee4.png</td>\n",
       "      <td>10.6084/m9.figshare.12230906</td>\n",
       "      <td>1</td>\n",
       "      <td>SCC</td>\n",
       "      <td>792</td>\n",
       "      <td>462</td>\n",
       "      <td>/mnt/home/henrique/Repositorios_Git/GitHub.com...</td>\n",
       "    </tr>\n",
       "    <tr>\n",
       "      <th>1</th>\n",
       "      <td>400</td>\n",
       "      <td>9ae8a4edde40219bad6303cebc672ee4.png</td>\n",
       "      <td>10.6084/m9.figshare.12230906</td>\n",
       "      <td>2</td>\n",
       "      <td>SCC</td>\n",
       "      <td>601</td>\n",
       "      <td>678</td>\n",
       "      <td>/mnt/home/henrique/Repositorios_Git/GitHub.com...</td>\n",
       "    </tr>\n",
       "    <tr>\n",
       "      <th>2</th>\n",
       "      <td>400</td>\n",
       "      <td>9ae8a4edde40219bad6303cebc672ee4.png</td>\n",
       "      <td>10.6084/m9.figshare.12230906</td>\n",
       "      <td>3</td>\n",
       "      <td>SCC</td>\n",
       "      <td>363</td>\n",
       "      <td>467</td>\n",
       "      <td>/mnt/home/henrique/Repositorios_Git/GitHub.com...</td>\n",
       "    </tr>\n",
       "    <tr>\n",
       "      <th>3</th>\n",
       "      <td>400</td>\n",
       "      <td>9ae8a4edde40219bad6303cebc672ee4.png</td>\n",
       "      <td>10.6084/m9.figshare.12230906</td>\n",
       "      <td>4</td>\n",
       "      <td>SCC</td>\n",
       "      <td>599</td>\n",
       "      <td>437</td>\n",
       "      <td>/mnt/home/henrique/Repositorios_Git/GitHub.com...</td>\n",
       "    </tr>\n",
       "    <tr>\n",
       "      <th>4</th>\n",
       "      <td>400</td>\n",
       "      <td>9ae8a4edde40219bad6303cebc672ee4.png</td>\n",
       "      <td>10.6084/m9.figshare.12230906</td>\n",
       "      <td>5</td>\n",
       "      <td>Negative for intraepithelial lesion</td>\n",
       "      <td>1186</td>\n",
       "      <td>450</td>\n",
       "      <td>/mnt/home/henrique/Repositorios_Git/GitHub.com...</td>\n",
       "    </tr>\n",
       "    <tr>\n",
       "      <th>...</th>\n",
       "      <td>...</td>\n",
       "      <td>...</td>\n",
       "      <td>...</td>\n",
       "      <td>...</td>\n",
       "      <td>...</td>\n",
       "      <td>...</td>\n",
       "      <td>...</td>\n",
       "      <td>...</td>\n",
       "    </tr>\n",
       "    <tr>\n",
       "      <th>11529</th>\n",
       "      <td>1</td>\n",
       "      <td>be340ee72689dfe3f8dc9c24de6127f4.png</td>\n",
       "      <td>10.6084/m9.figshare.12229511</td>\n",
       "      <td>11530</td>\n",
       "      <td>LSIL</td>\n",
       "      <td>618</td>\n",
       "      <td>407</td>\n",
       "      <td>/mnt/home/henrique/Repositorios_Git/GitHub.com...</td>\n",
       "    </tr>\n",
       "    <tr>\n",
       "      <th>11530</th>\n",
       "      <td>1</td>\n",
       "      <td>be340ee72689dfe3f8dc9c24de6127f4.png</td>\n",
       "      <td>10.6084/m9.figshare.12229511</td>\n",
       "      <td>11531</td>\n",
       "      <td>LSIL</td>\n",
       "      <td>607</td>\n",
       "      <td>374</td>\n",
       "      <td>/mnt/home/henrique/Repositorios_Git/GitHub.com...</td>\n",
       "    </tr>\n",
       "    <tr>\n",
       "      <th>11531</th>\n",
       "      <td>1</td>\n",
       "      <td>be340ee72689dfe3f8dc9c24de6127f4.png</td>\n",
       "      <td>10.6084/m9.figshare.12229511</td>\n",
       "      <td>11532</td>\n",
       "      <td>LSIL</td>\n",
       "      <td>707</td>\n",
       "      <td>251</td>\n",
       "      <td>/mnt/home/henrique/Repositorios_Git/GitHub.com...</td>\n",
       "    </tr>\n",
       "    <tr>\n",
       "      <th>11532</th>\n",
       "      <td>1</td>\n",
       "      <td>be340ee72689dfe3f8dc9c24de6127f4.png</td>\n",
       "      <td>10.6084/m9.figshare.12229511</td>\n",
       "      <td>11533</td>\n",
       "      <td>LSIL</td>\n",
       "      <td>579</td>\n",
       "      <td>246</td>\n",
       "      <td>/mnt/home/henrique/Repositorios_Git/GitHub.com...</td>\n",
       "    </tr>\n",
       "    <tr>\n",
       "      <th>11533</th>\n",
       "      <td>1</td>\n",
       "      <td>be340ee72689dfe3f8dc9c24de6127f4.png</td>\n",
       "      <td>10.6084/m9.figshare.12229511</td>\n",
       "      <td>11534</td>\n",
       "      <td>Negative for intraepithelial lesion</td>\n",
       "      <td>227</td>\n",
       "      <td>130</td>\n",
       "      <td>/mnt/home/henrique/Repositorios_Git/GitHub.com...</td>\n",
       "    </tr>\n",
       "  </tbody>\n",
       "</table>\n",
       "<p>11534 rows × 8 columns</p>\n",
       "</div>"
      ],
      "text/plain": [
       "       image_id                        image_filename  \\\n",
       "0           400  9ae8a4edde40219bad6303cebc672ee4.png   \n",
       "1           400  9ae8a4edde40219bad6303cebc672ee4.png   \n",
       "2           400  9ae8a4edde40219bad6303cebc672ee4.png   \n",
       "3           400  9ae8a4edde40219bad6303cebc672ee4.png   \n",
       "4           400  9ae8a4edde40219bad6303cebc672ee4.png   \n",
       "...         ...                                   ...   \n",
       "11529         1  be340ee72689dfe3f8dc9c24de6127f4.png   \n",
       "11530         1  be340ee72689dfe3f8dc9c24de6127f4.png   \n",
       "11531         1  be340ee72689dfe3f8dc9c24de6127f4.png   \n",
       "11532         1  be340ee72689dfe3f8dc9c24de6127f4.png   \n",
       "11533         1  be340ee72689dfe3f8dc9c24de6127f4.png   \n",
       "\n",
       "                          image_doi  cell_id  \\\n",
       "0      10.6084/m9.figshare.12230906        1   \n",
       "1      10.6084/m9.figshare.12230906        2   \n",
       "2      10.6084/m9.figshare.12230906        3   \n",
       "3      10.6084/m9.figshare.12230906        4   \n",
       "4      10.6084/m9.figshare.12230906        5   \n",
       "...                             ...      ...   \n",
       "11529  10.6084/m9.figshare.12229511    11530   \n",
       "11530  10.6084/m9.figshare.12229511    11531   \n",
       "11531  10.6084/m9.figshare.12229511    11532   \n",
       "11532  10.6084/m9.figshare.12229511    11533   \n",
       "11533  10.6084/m9.figshare.12229511    11534   \n",
       "\n",
       "                           bethesda_system  nucleus_x  nucleus_y  \\\n",
       "0                                      SCC        792        462   \n",
       "1                                      SCC        601        678   \n",
       "2                                      SCC        363        467   \n",
       "3                                      SCC        599        437   \n",
       "4      Negative for intraepithelial lesion       1186        450   \n",
       "...                                    ...        ...        ...   \n",
       "11529                                 LSIL        618        407   \n",
       "11530                                 LSIL        607        374   \n",
       "11531                                 LSIL        707        251   \n",
       "11532                                 LSIL        579        246   \n",
       "11533  Negative for intraepithelial lesion        227        130   \n",
       "\n",
       "                                                    path  \n",
       "0      /mnt/home/henrique/Repositorios_Git/GitHub.com...  \n",
       "1      /mnt/home/henrique/Repositorios_Git/GitHub.com...  \n",
       "2      /mnt/home/henrique/Repositorios_Git/GitHub.com...  \n",
       "3      /mnt/home/henrique/Repositorios_Git/GitHub.com...  \n",
       "4      /mnt/home/henrique/Repositorios_Git/GitHub.com...  \n",
       "...                                                  ...  \n",
       "11529  /mnt/home/henrique/Repositorios_Git/GitHub.com...  \n",
       "11530  /mnt/home/henrique/Repositorios_Git/GitHub.com...  \n",
       "11531  /mnt/home/henrique/Repositorios_Git/GitHub.com...  \n",
       "11532  /mnt/home/henrique/Repositorios_Git/GitHub.com...  \n",
       "11533  /mnt/home/henrique/Repositorios_Git/GitHub.com...  \n",
       "\n",
       "[11534 rows x 8 columns]"
      ]
     },
     "execution_count": 6,
     "metadata": {},
     "output_type": "execute_result"
    }
   ],
   "source": [
    "data_frame"
   ]
  },
  {
   "cell_type": "markdown",
   "metadata": {},
   "source": [
    "Adicionando coluna random e ordenando por meio dela"
   ]
  },
  {
   "cell_type": "code",
   "execution_count": 7,
   "metadata": {
    "ExecuteTime": {
     "end_time": "2024-05-27T22:07:32.206294Z",
     "start_time": "2024-05-27T22:07:32.182697Z"
    }
   },
   "outputs": [],
   "source": [
    "data_frame['random'] = data_frame[data_frame.columns[0]].apply(lambda _: random.random())"
   ]
  },
  {
   "cell_type": "code",
   "execution_count": 8,
   "metadata": {},
   "outputs": [],
   "source": [
    "data_frame.sort_values(\n",
    "    by='random',\n",
    "    inplace=True\n",
    ")"
   ]
  },
  {
   "cell_type": "markdown",
   "metadata": {},
   "source": [
    "Removendo imagens que não existem"
   ]
  },
  {
   "cell_type": "code",
   "execution_count": 9,
   "metadata": {},
   "outputs": [],
   "source": [
    "for index, row in data_frame.iterrows():\n",
    "    if not os.path.exists(row['path']):\n",
    "        data_frame.drop(index, inplace=True)"
   ]
  },
  {
   "cell_type": "code",
   "execution_count": 10,
   "metadata": {},
   "outputs": [
    {
     "data": {
      "text/html": [
       "<div>\n",
       "<style scoped>\n",
       "    .dataframe tbody tr th:only-of-type {\n",
       "        vertical-align: middle;\n",
       "    }\n",
       "\n",
       "    .dataframe tbody tr th {\n",
       "        vertical-align: top;\n",
       "    }\n",
       "\n",
       "    .dataframe thead th {\n",
       "        text-align: right;\n",
       "    }\n",
       "</style>\n",
       "<table border=\"1\" class=\"dataframe\">\n",
       "  <thead>\n",
       "    <tr style=\"text-align: right;\">\n",
       "      <th></th>\n",
       "      <th>image_id</th>\n",
       "      <th>image_filename</th>\n",
       "      <th>image_doi</th>\n",
       "      <th>cell_id</th>\n",
       "      <th>bethesda_system</th>\n",
       "      <th>nucleus_x</th>\n",
       "      <th>nucleus_y</th>\n",
       "      <th>path</th>\n",
       "      <th>random</th>\n",
       "    </tr>\n",
       "  </thead>\n",
       "  <tbody>\n",
       "    <tr>\n",
       "      <th>2514</th>\n",
       "      <td>318</td>\n",
       "      <td>a30fcaf343b17a21a7018e1ed1ec907e.png</td>\n",
       "      <td>10.6084/m9.figshare.12230615</td>\n",
       "      <td>2515</td>\n",
       "      <td>Negative for intraepithelial lesion</td>\n",
       "      <td>690</td>\n",
       "      <td>637</td>\n",
       "      <td>/mnt/home/henrique/Repositorios_Git/GitHub.com...</td>\n",
       "      <td>0.000469</td>\n",
       "    </tr>\n",
       "    <tr>\n",
       "      <th>8185</th>\n",
       "      <td>82</td>\n",
       "      <td>dd61f345bc7cdcbf3bb86d58eb0992b4.png</td>\n",
       "      <td>10.6084/m9.figshare.12229778</td>\n",
       "      <td>8186</td>\n",
       "      <td>Negative for intraepithelial lesion</td>\n",
       "      <td>759</td>\n",
       "      <td>695</td>\n",
       "      <td>/mnt/home/henrique/Repositorios_Git/GitHub.com...</td>\n",
       "      <td>0.000521</td>\n",
       "    </tr>\n",
       "    <tr>\n",
       "      <th>10804</th>\n",
       "      <td>25</td>\n",
       "      <td>f981c4aac622d7cce71a81305dd38ade.png</td>\n",
       "      <td>10.6084/m9.figshare.12229598</td>\n",
       "      <td>10805</td>\n",
       "      <td>Negative for intraepithelial lesion</td>\n",
       "      <td>948</td>\n",
       "      <td>591</td>\n",
       "      <td>/mnt/home/henrique/Repositorios_Git/GitHub.com...</td>\n",
       "      <td>0.000976</td>\n",
       "    </tr>\n",
       "    <tr>\n",
       "      <th>7680</th>\n",
       "      <td>97</td>\n",
       "      <td>299abd9ed2593fa2a0bcd9ba0c73a576.png</td>\n",
       "      <td>10.6084/m9.figshare.12229847</td>\n",
       "      <td>7681</td>\n",
       "      <td>ASC-US</td>\n",
       "      <td>1094</td>\n",
       "      <td>733</td>\n",
       "      <td>/mnt/home/henrique/Repositorios_Git/GitHub.com...</td>\n",
       "      <td>0.001125</td>\n",
       "    </tr>\n",
       "    <tr>\n",
       "      <th>1551</th>\n",
       "      <td>358</td>\n",
       "      <td>e0c93ad46ad5dac7832427c1eb191c9e.png</td>\n",
       "      <td>10.6084/m9.figshare.12230747</td>\n",
       "      <td>1552</td>\n",
       "      <td>Negative for intraepithelial lesion</td>\n",
       "      <td>474</td>\n",
       "      <td>118</td>\n",
       "      <td>/mnt/home/henrique/Repositorios_Git/GitHub.com...</td>\n",
       "      <td>0.001143</td>\n",
       "    </tr>\n",
       "    <tr>\n",
       "      <th>...</th>\n",
       "      <td>...</td>\n",
       "      <td>...</td>\n",
       "      <td>...</td>\n",
       "      <td>...</td>\n",
       "      <td>...</td>\n",
       "      <td>...</td>\n",
       "      <td>...</td>\n",
       "      <td>...</td>\n",
       "      <td>...</td>\n",
       "    </tr>\n",
       "    <tr>\n",
       "      <th>8645</th>\n",
       "      <td>72</td>\n",
       "      <td>424a7ee29385c53e950de973f411a30c.png</td>\n",
       "      <td>10.6084/m9.figshare.12229742</td>\n",
       "      <td>8646</td>\n",
       "      <td>Negative for intraepithelial lesion</td>\n",
       "      <td>660</td>\n",
       "      <td>791</td>\n",
       "      <td>/mnt/home/henrique/Repositorios_Git/GitHub.com...</td>\n",
       "      <td>0.999164</td>\n",
       "    </tr>\n",
       "    <tr>\n",
       "      <th>6477</th>\n",
       "      <td>136</td>\n",
       "      <td>8cfdeaf76c0a48043406626f1a0b90a7.png</td>\n",
       "      <td>10.6084/m9.figshare.12230009</td>\n",
       "      <td>6478</td>\n",
       "      <td>Negative for intraepithelial lesion</td>\n",
       "      <td>1176</td>\n",
       "      <td>270</td>\n",
       "      <td>/mnt/home/henrique/Repositorios_Git/GitHub.com...</td>\n",
       "      <td>0.999224</td>\n",
       "    </tr>\n",
       "    <tr>\n",
       "      <th>10552</th>\n",
       "      <td>30</td>\n",
       "      <td>0489736e8d880b5188b04d11c3131cd3.png</td>\n",
       "      <td>10.6084/m9.figshare.12229613</td>\n",
       "      <td>10553</td>\n",
       "      <td>Negative for intraepithelial lesion</td>\n",
       "      <td>834</td>\n",
       "      <td>918</td>\n",
       "      <td>/mnt/home/henrique/Repositorios_Git/GitHub.com...</td>\n",
       "      <td>0.999734</td>\n",
       "    </tr>\n",
       "    <tr>\n",
       "      <th>10954</th>\n",
       "      <td>19</td>\n",
       "      <td>8457af003b1ad48e907156b5e6e53bea.png</td>\n",
       "      <td>10.6084/m9.figshare.12229580</td>\n",
       "      <td>10955</td>\n",
       "      <td>Negative for intraepithelial lesion</td>\n",
       "      <td>742</td>\n",
       "      <td>394</td>\n",
       "      <td>/mnt/home/henrique/Repositorios_Git/GitHub.com...</td>\n",
       "      <td>0.999864</td>\n",
       "    </tr>\n",
       "    <tr>\n",
       "      <th>6095</th>\n",
       "      <td>147</td>\n",
       "      <td>7cadcc842e5559cd14a3cd1143dd8db0.png</td>\n",
       "      <td>10.6084/m9.figshare.12230051</td>\n",
       "      <td>6096</td>\n",
       "      <td>Negative for intraepithelial lesion</td>\n",
       "      <td>1141</td>\n",
       "      <td>293</td>\n",
       "      <td>/mnt/home/henrique/Repositorios_Git/GitHub.com...</td>\n",
       "      <td>0.999923</td>\n",
       "    </tr>\n",
       "  </tbody>\n",
       "</table>\n",
       "<p>5581 rows × 9 columns</p>\n",
       "</div>"
      ],
      "text/plain": [
       "       image_id                        image_filename  \\\n",
       "2514        318  a30fcaf343b17a21a7018e1ed1ec907e.png   \n",
       "8185         82  dd61f345bc7cdcbf3bb86d58eb0992b4.png   \n",
       "10804        25  f981c4aac622d7cce71a81305dd38ade.png   \n",
       "7680         97  299abd9ed2593fa2a0bcd9ba0c73a576.png   \n",
       "1551        358  e0c93ad46ad5dac7832427c1eb191c9e.png   \n",
       "...         ...                                   ...   \n",
       "8645         72  424a7ee29385c53e950de973f411a30c.png   \n",
       "6477        136  8cfdeaf76c0a48043406626f1a0b90a7.png   \n",
       "10552        30  0489736e8d880b5188b04d11c3131cd3.png   \n",
       "10954        19  8457af003b1ad48e907156b5e6e53bea.png   \n",
       "6095        147  7cadcc842e5559cd14a3cd1143dd8db0.png   \n",
       "\n",
       "                          image_doi  cell_id  \\\n",
       "2514   10.6084/m9.figshare.12230615     2515   \n",
       "8185   10.6084/m9.figshare.12229778     8186   \n",
       "10804  10.6084/m9.figshare.12229598    10805   \n",
       "7680   10.6084/m9.figshare.12229847     7681   \n",
       "1551   10.6084/m9.figshare.12230747     1552   \n",
       "...                             ...      ...   \n",
       "8645   10.6084/m9.figshare.12229742     8646   \n",
       "6477   10.6084/m9.figshare.12230009     6478   \n",
       "10552  10.6084/m9.figshare.12229613    10553   \n",
       "10954  10.6084/m9.figshare.12229580    10955   \n",
       "6095   10.6084/m9.figshare.12230051     6096   \n",
       "\n",
       "                           bethesda_system  nucleus_x  nucleus_y  \\\n",
       "2514   Negative for intraepithelial lesion        690        637   \n",
       "8185   Negative for intraepithelial lesion        759        695   \n",
       "10804  Negative for intraepithelial lesion        948        591   \n",
       "7680                                ASC-US       1094        733   \n",
       "1551   Negative for intraepithelial lesion        474        118   \n",
       "...                                    ...        ...        ...   \n",
       "8645   Negative for intraepithelial lesion        660        791   \n",
       "6477   Negative for intraepithelial lesion       1176        270   \n",
       "10552  Negative for intraepithelial lesion        834        918   \n",
       "10954  Negative for intraepithelial lesion        742        394   \n",
       "6095   Negative for intraepithelial lesion       1141        293   \n",
       "\n",
       "                                                    path    random  \n",
       "2514   /mnt/home/henrique/Repositorios_Git/GitHub.com...  0.000469  \n",
       "8185   /mnt/home/henrique/Repositorios_Git/GitHub.com...  0.000521  \n",
       "10804  /mnt/home/henrique/Repositorios_Git/GitHub.com...  0.000976  \n",
       "7680   /mnt/home/henrique/Repositorios_Git/GitHub.com...  0.001125  \n",
       "1551   /mnt/home/henrique/Repositorios_Git/GitHub.com...  0.001143  \n",
       "...                                                  ...       ...  \n",
       "8645   /mnt/home/henrique/Repositorios_Git/GitHub.com...  0.999164  \n",
       "6477   /mnt/home/henrique/Repositorios_Git/GitHub.com...  0.999224  \n",
       "10552  /mnt/home/henrique/Repositorios_Git/GitHub.com...  0.999734  \n",
       "10954  /mnt/home/henrique/Repositorios_Git/GitHub.com...  0.999864  \n",
       "6095   /mnt/home/henrique/Repositorios_Git/GitHub.com...  0.999923  \n",
       "\n",
       "[5581 rows x 9 columns]"
      ]
     },
     "execution_count": 10,
     "metadata": {},
     "output_type": "execute_result"
    }
   ],
   "source": [
    "data_frame"
   ]
  },
  {
   "cell_type": "markdown",
   "metadata": {},
   "source": [
    "Separando o x"
   ]
  },
  {
   "cell_type": "code",
   "execution_count": 11,
   "metadata": {},
   "outputs": [
    {
     "data": {
      "text/plain": [
       "'/mnt/home/henrique/Repositorios_Git/GitHub.com/Henriquemcc/Ciencia da Computacao/Trabalho_Pratico_-_Processamento_e_Analise_de_Imagens_-_2024-1/develop_henrique_2024_06_01/dataset_converted/Negative for intraepithelial lesion/2515.png'"
      ]
     },
     "execution_count": 11,
     "metadata": {},
     "output_type": "execute_result"
    }
   ],
   "source": [
    "data_frame['path'].iloc[0]"
   ]
  },
  {
   "cell_type": "code",
   "execution_count": 12,
   "metadata": {},
   "outputs": [
    {
     "data": {
      "text/plain": [
       "array([158, 114, 108, ..., 193, 196, 220], dtype=uint8)"
      ]
     },
     "execution_count": 12,
     "metadata": {},
     "output_type": "execute_result"
    }
   ],
   "source": [
    "xi = ImagemRGB.from_file(data_frame['path'].iloc[0]).matriz.flatten()\n",
    "xi"
   ]
  },
  {
   "cell_type": "code",
   "execution_count": 13,
   "metadata": {},
   "outputs": [
    {
     "data": {
      "text/plain": [
       "(30000,)"
      ]
     },
     "execution_count": 13,
     "metadata": {},
     "output_type": "execute_result"
    }
   ],
   "source": [
    "xi.shape"
   ]
  },
  {
   "cell_type": "code",
   "execution_count": 14,
   "metadata": {},
   "outputs": [],
   "source": [
    "x = []\n",
    "for index, row in data_frame.iterrows():\n",
    "    image = ImagemRGB.from_file(row['path'])\n",
    "    x.append(image.matriz.flatten()/255)\n",
    "x = numpy.array(x)"
   ]
  },
  {
   "cell_type": "code",
   "execution_count": 15,
   "metadata": {},
   "outputs": [
    {
     "data": {
      "text/plain": [
       "(5581, 30000)"
      ]
     },
     "execution_count": 15,
     "metadata": {},
     "output_type": "execute_result"
    }
   ],
   "source": [
    "x.shape"
   ]
  },
  {
   "cell_type": "code",
   "execution_count": 16,
   "metadata": {},
   "outputs": [
    {
     "data": {
      "text/plain": [
       "array([[0.61960784, 0.44705882, 0.42352941, ..., 0.75686275, 0.76862745,\n",
       "        0.8627451 ],\n",
       "       [0.88627451, 0.57647059, 0.31372549, ..., 0.80392157, 0.73333333,\n",
       "        0.76470588],\n",
       "       [0.25490196, 0.16862745, 0.26666667, ..., 0.18823529, 0.0745098 ,\n",
       "        0.14117647],\n",
       "       ...,\n",
       "       [0.82745098, 0.44313725, 0.2       , ..., 0.        , 0.        ,\n",
       "        0.        ],\n",
       "       [0.85490196, 0.59215686, 0.52941176, ..., 0.10196078, 0.1372549 ,\n",
       "        0.27843137],\n",
       "       [0.94509804, 0.61568627, 0.64705882, ..., 0.97647059, 0.99215686,\n",
       "        0.99215686]])"
      ]
     },
     "execution_count": 16,
     "metadata": {},
     "output_type": "execute_result"
    }
   ],
   "source": [
    "x"
   ]
  },
  {
   "cell_type": "markdown",
   "metadata": {},
   "source": [
    "Separando o y"
   ]
  },
  {
   "cell_type": "code",
   "execution_count": 41,
   "metadata": {
    "ExecuteTime": {
     "end_time": "2024-05-27T22:07:32.231453Z",
     "start_time": "2024-05-27T22:07:32.227388Z"
    }
   },
   "outputs": [],
   "source": [
    "y = data_frame.iloc[:, 4].values\n",
    "#label_encoder = sklearn.preprocessing.LabelEncoder()\n",
    "#y = label_encoder.fit_transform(y)"
   ]
  },
  {
   "cell_type": "code",
   "execution_count": 42,
   "metadata": {},
   "outputs": [],
   "source": [
    "labels = list(set(data_frame.iloc[:, 4].values))"
   ]
  },
  {
   "cell_type": "code",
   "execution_count": 43,
   "metadata": {},
   "outputs": [
    {
     "data": {
      "text/plain": [
       "['SCC',\n",
       " 'HSIL',\n",
       " 'Negative for intraepithelial lesion',\n",
       " 'LSIL',\n",
       " 'ASC-H',\n",
       " 'ASC-US']"
      ]
     },
     "execution_count": 43,
     "metadata": {},
     "output_type": "execute_result"
    }
   ],
   "source": [
    "labels"
   ]
  },
  {
   "cell_type": "code",
   "execution_count": 44,
   "metadata": {},
   "outputs": [],
   "source": [
    "#y = [[1 if label==lbl else 0 for lbl in labels] for label in y]"
   ]
  },
  {
   "cell_type": "code",
   "execution_count": 45,
   "metadata": {},
   "outputs": [],
   "source": [
    "#y = numpy.array(y)"
   ]
  },
  {
   "cell_type": "code",
   "execution_count": 46,
   "metadata": {},
   "outputs": [
    {
     "data": {
      "text/plain": [
       "array(['Negative for intraepithelial lesion',\n",
       "       'Negative for intraepithelial lesion',\n",
       "       'Negative for intraepithelial lesion', ...,\n",
       "       'Negative for intraepithelial lesion',\n",
       "       'Negative for intraepithelial lesion',\n",
       "       'Negative for intraepithelial lesion'], dtype=object)"
      ]
     },
     "execution_count": 46,
     "metadata": {},
     "output_type": "execute_result"
    }
   ],
   "source": [
    "y"
   ]
  },
  {
   "cell_type": "code",
   "execution_count": 47,
   "metadata": {},
   "outputs": [
    {
     "data": {
      "text/plain": [
       "numpy.ndarray"
      ]
     },
     "execution_count": 47,
     "metadata": {},
     "output_type": "execute_result"
    }
   ],
   "source": [
    "type(y)"
   ]
  },
  {
   "cell_type": "code",
   "execution_count": 48,
   "metadata": {
    "ExecuteTime": {
     "end_time": "2024-05-27T22:07:32.237687Z",
     "start_time": "2024-05-27T22:07:32.233211Z"
    }
   },
   "outputs": [
    {
     "data": {
      "text/plain": [
       "(5581,)"
      ]
     },
     "execution_count": 48,
     "metadata": {},
     "output_type": "execute_result"
    }
   ],
   "source": [
    "y.shape"
   ]
  },
  {
   "cell_type": "markdown",
   "metadata": {},
   "source": [
    "Separando o conjunto de treino e teste"
   ]
  },
  {
   "cell_type": "code",
   "execution_count": 49,
   "metadata": {
    "ExecuteTime": {
     "end_time": "2024-05-27T22:07:32.245398Z",
     "start_time": "2024-05-27T22:07:32.239332Z"
    }
   },
   "outputs": [],
   "source": [
    "x_train, x_test, y_train, y_test = sklearn.model_selection.train_test_split(x, y, test_size=0.2, train_size=0.8)"
   ]
  },
  {
   "cell_type": "code",
   "execution_count": 50,
   "metadata": {},
   "outputs": [
    {
     "data": {
      "text/plain": [
       "array(['Negative for intraepithelial lesion', 'LSIL',\n",
       "       'Negative for intraepithelial lesion', ...,\n",
       "       'Negative for intraepithelial lesion',\n",
       "       'Negative for intraepithelial lesion',\n",
       "       'Negative for intraepithelial lesion'], dtype=object)"
      ]
     },
     "execution_count": 50,
     "metadata": {},
     "output_type": "execute_result"
    }
   ],
   "source": [
    "y_train"
   ]
  },
  {
   "cell_type": "code",
   "execution_count": 51,
   "metadata": {},
   "outputs": [
    {
     "data": {
      "text/plain": [
       "(4464, 30000)"
      ]
     },
     "execution_count": 51,
     "metadata": {},
     "output_type": "execute_result"
    }
   ],
   "source": [
    "x_train.shape"
   ]
  },
  {
   "cell_type": "code",
   "execution_count": 52,
   "metadata": {},
   "outputs": [
    {
     "data": {
      "text/plain": [
       "(4464,)"
      ]
     },
     "execution_count": 52,
     "metadata": {},
     "output_type": "execute_result"
    }
   ],
   "source": [
    "y_train.shape"
   ]
  },
  {
   "cell_type": "code",
   "execution_count": 53,
   "metadata": {},
   "outputs": [
    {
     "data": {
      "text/plain": [
       "(1117, 30000)"
      ]
     },
     "execution_count": 53,
     "metadata": {},
     "output_type": "execute_result"
    }
   ],
   "source": [
    "x_test.shape"
   ]
  },
  {
   "cell_type": "code",
   "execution_count": 54,
   "metadata": {},
   "outputs": [
    {
     "data": {
      "text/plain": [
       "(1117,)"
      ]
     },
     "execution_count": 54,
     "metadata": {},
     "output_type": "execute_result"
    }
   ],
   "source": [
    "y_test.shape"
   ]
  },
  {
   "cell_type": "markdown",
   "metadata": {},
   "source": [
    "Exportando x_test, x_train, y_test, y_train para um arquivo externo"
   ]
  },
  {
   "cell_type": "code",
   "execution_count": 55,
   "metadata": {},
   "outputs": [],
   "source": [
    "#with open('data.pkl', mode='wb') as file:\n",
    "    #pickle.dump([x_train, x_test, y_train, y_test], file)"
   ]
  },
  {
   "cell_type": "markdown",
   "metadata": {},
   "source": [
    "# Aplicando o SVM"
   ]
  },
  {
   "cell_type": "markdown",
   "metadata": {},
   "source": [
    "Construindo o modelo"
   ]
  },
  {
   "cell_type": "code",
   "execution_count": 56,
   "metadata": {},
   "outputs": [],
   "source": [
    "modelo = svm.SVC()"
   ]
  },
  {
   "cell_type": "markdown",
   "metadata": {},
   "source": [
    "Treinando o modelo"
   ]
  },
  {
   "cell_type": "code",
   "execution_count": 57,
   "metadata": {},
   "outputs": [],
   "source": [
    "modelo.fit(x_train, y_train)"
   ]
  },
  {
   "cell_type": "code",
   "execution_count": null,
   "metadata": {},
   "outputs": [],
   "source": [
    "import joblib\n",
    "joblib.dump(modelo, 'modelo.pkl')"
   ]
  },
  {
   "cell_type": "code",
   "execution_count": null,
   "metadata": {},
   "outputs": [],
   "source": [
    "with open('modelo.pkl', mode='wb') as file:\n",
    "    pickle.dump(modelo, file)"
   ]
  },
  {
   "cell_type": "code",
   "execution_count": null,
   "metadata": {},
   "outputs": [],
   "source": []
  }
 ],
 "metadata": {
  "kernelspec": {
   "display_name": "venv",
   "language": "python",
   "name": "python3"
  },
  "language_info": {
   "codemirror_mode": {
    "name": "ipython",
    "version": 3
   },
   "file_extension": ".py",
   "mimetype": "text/x-python",
   "name": "python",
   "nbconvert_exporter": "python",
   "pygments_lexer": "ipython3",
   "version": "3.11.7"
  }
 },
 "nbformat": 4,
 "nbformat_minor": 2
}
