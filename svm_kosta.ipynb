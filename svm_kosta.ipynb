{
 "cells": [
  {
   "cell_type": "code",
   "execution_count": null,
   "id": "e08ce428-314b-4086-83cf-785e7ac524db",
   "metadata": {},
   "outputs": [],
   "source": [
    "import os\n",
    "import pandas as pd\n",
    "from sklearn.model_selection import train_test_split\n",
    "from sklearn.svm import SVC\n",
    "import random\n",
    "import cv2\n",
    "from matplotlib import pyplot as plt\n",
    "from PIL import Image\n",
    "import numpy as np"
   ]
  },
  {
   "cell_type": "code",
   "execution_count": null,
   "id": "dec86d12-7a24-45fd-8cb5-e33d1be12b5f",
   "metadata": {},
   "outputs": [],
   "source": [
    "X = [[0, 0], [1, 1]]\n",
    "y = [0, 1]\n",
    "\n",
    "modelo = SVC()\n",
    "modelo.fit(X,y)"
   ]
  },
  {
   "cell_type": "code",
   "execution_count": null,
   "id": "e53a3d88-2c54-411a-9a5a-d49f0146e705",
   "metadata": {},
   "outputs": [],
   "source": [
    "modelo.predict([[0,0],[1,0],[0,1],[1,1],[0.49,0.49]])"
   ]
  },
  {
   "cell_type": "code",
   "execution_count": null,
   "id": "ccd2ff4c-5710-428a-9ae6-fd32752e0c27",
   "metadata": {},
   "outputs": [],
   "source": [
    "# Descobrir caminhos de imagens e classificação\n",
    "images_path = '../dataset_converted'\n",
    "\n",
    "# loaded variables\n",
    "df = pd.DataFrame(columns=['path','classification'])\n",
    "classification_label = []\n",
    "\n",
    "for f_number, folder in enumerate(os.listdir(images_path)):\n",
    "    folder_path = os.path.join(images_path, folder)\n",
    "    classification_label.append(folder)\n",
    "    for image in os.listdir(folder_path):\n",
    "        image_path = os.path.join(folder_path, image)\n",
    "        df.loc[0 if pd.isnull(df.index.max()) else df.index.max() + 1] = [image_path, f_number]\n",
    "\n",
    "classification_label, df"
   ]
  },
  {
   "cell_type": "code",
   "execution_count": null,
   "id": "b5759c9c-5a5a-42e1-a239-b0a481242fcb",
   "metadata": {},
   "outputs": [],
   "source": [
    "# Carregar as imagens e fazer pré-processamento\n",
    "def preprocess_image(image_path):\n",
    "   # Carregar a imagem em escala de cinza\n",
    "   image = np.array(Image.open(image_path).convert('L'))\n",
    "   # Aplicar equalização de histograma\n",
    "   # image = cv2.equalizeHist(image)\n",
    "   return image.ravel()"
   ]
  },
  {
   "cell_type": "code",
   "execution_count": null,
   "id": "b962476e",
   "metadata": {},
   "outputs": [],
   "source": [
    "# Plotar a imagem original e a equalizada\n",
    "def plot_images(equalized):\n",
    "    plt.figure(figsize=(10, 5))\n",
    "    # Mostrar imagem equalizada\n",
    "    plt.subplot()\n",
    "    plt.title(\"Equalized Image\")\n",
    "    plt.imshow(equalized, cmap='gray')\n",
    "    plt.axis('off')\n",
    "    plt.show()"
   ]
  },
  {
   "cell_type": "code",
   "execution_count": null,
   "id": "fd3c4a0e",
   "metadata": {},
   "outputs": [],
   "source": [
    "# Pré-processar a imagem\n",
    "equalized_image = preprocess_image(df['path'][100])"
   ]
  },
  {
   "cell_type": "code",
   "execution_count": null,
   "id": "4f80226f-2e9b-4014-9101-eba97e77f164",
   "metadata": {},
   "outputs": [],
   "source": [
    "# Plotar as imagens\n",
    "plot_images(equalized_image.reshape(100,100))"
   ]
  },
  {
   "cell_type": "code",
   "execution_count": null,
   "id": "89a00ffb",
   "metadata": {},
   "outputs": [],
   "source": [
    "df['image'] = df['path'].apply(preprocess_image)\n",
    "df"
   ]
  },
  {
   "cell_type": "code",
   "execution_count": null,
   "id": "fa322956-b931-4b77-b779-db725c72bd6a",
   "metadata": {},
   "outputs": [],
   "source": [
    "X_train, X_test, y_train, y_test = train_test_split(df['image'], df['classification'], test_size=0.2, random_state=42)\n",
    "\n",
    "df_train = pd.concat([X_train, y_train], axis=1)\n",
    "\n",
    "X_train = np.vstack(X_train.values)\n",
    "y_train = y_train.values\n",
    "X_test = np.vstack(X_test.values)\n",
    "y_test = y_test.values\n",
    "\n",
    "df_train, X_test, y_test, len(X_test), len(y_test)"
   ]
  },
  {
   "cell_type": "code",
   "execution_count": null,
   "id": "ec448f3d-25a6-4850-9e26-876b970dd38f",
   "metadata": {},
   "outputs": [],
   "source": [
    "class_counts = df_train['classification'].value_counts()\n",
    "min_class_count = class_counts.min()\n",
    "class_counts, min_class_count"
   ]
  },
  {
   "cell_type": "markdown",
   "id": "2d8d6153-1820-4534-b6a0-6a905987d7b7",
   "metadata": {},
   "source": [
    "# Treinar o modelo SVC"
   ]
  },
  {
   "cell_type": "code",
   "execution_count": null,
   "id": "2709f1eb-74ea-4eb9-a371-1c66161a96a5",
   "metadata": {},
   "outputs": [],
   "source": [
    "modelo = SVC(max_iter=500,tol=0.000001)"
   ]
  },
  {
   "cell_type": "code",
   "execution_count": null,
   "id": "07c63143-b599-4ab6-80bd-f941f8191057",
   "metadata": {},
   "outputs": [],
   "source": [
    "def train_model(model, df_train, iter_p_roll=100, max_iter=1000, class_col='classification', obj_col='image'):\n",
    "    class_counts = df_train['classification'].value_counts()\n",
    "    min_class_count = class_counts.min()\n",
    "    \n",
    "    modelo.max_iter = iter_p_roll\n",
    "    n_epoch = max_iter//iter_p_roll\n",
    "    \n",
    "    for _ in range(n_epoch):\n",
    "        balanced_df = pd.concat([\n",
    "            df_train[df_train['classification'] == cls].sample(min_class_count)\n",
    "            for cls in range(len(class_counts))\n",
    "        ])\n",
    "        balanced_df['tmp'] = balanced_df.apply(lambda x: random.random(), axis=1)\n",
    "        balanced_df = balanced_df.sort_values('tmp')\n",
    "        balanced_df = balanced_df.drop('tmp', axis=1)\n",
    "    \n",
    "        X = np.vstack(balanced_df['image'].values)\n",
    "        y = balanced_df['classification'].values\n",
    "        X,y\n",
    "        \n",
    "        model.fit(X,y)"
   ]
  },
  {
   "cell_type": "code",
   "execution_count": null,
   "id": "89de1d23-b028-4a82-90f0-a866cd7cb11a",
   "metadata": {},
   "outputs": [],
   "source": [
    "train_model(modelo, df_train, iter_p_roll=500, max_iter=20000)"
   ]
  },
  {
   "cell_type": "code",
   "execution_count": null,
   "id": "131adbf5-f54f-44fc-b145-257370af051a",
   "metadata": {},
   "outputs": [],
   "source": [
    "modelo.fit(X_train, y_train)"
   ]
  },
  {
   "cell_type": "code",
   "execution_count": null,
   "id": "be331251",
   "metadata": {},
   "outputs": [],
   "source": [
    "modelo.score(X_test, y_test)"
   ]
  },
  {
   "cell_type": "code",
   "execution_count": null,
   "id": "8a18bc4e-e37a-4225-8f1e-a956eb1d857e",
   "metadata": {},
   "outputs": [],
   "source": [
    "df['predict'] = df['image'].apply(lambda x: modelo.predict([x])[0])\n",
    "correct = df.apply(lambda x: x['classification'] == x['predict'], axis=1)\n",
    "df[correct]"
   ]
  },
  {
   "cell_type": "code",
   "execution_count": null,
   "id": "ec5680e9-f351-4aaa-ba4a-8d0003d04e43",
   "metadata": {},
   "outputs": [],
   "source": [
    "import joblib\n",
    "joblib.dump(modelo, 'modelo_svc.pkl')"
   ]
  },
  {
   "cell_type": "code",
   "execution_count": null,
   "id": "4672a7af-c8de-4614-b930-e6e03d34dab9",
   "metadata": {},
   "outputs": [],
   "source": [
    "modelo_carregado = joblib.load('modelo_svc.pkl')\n",
    "modelo_carregado.score(X_test, y_test)"
   ]
  },
  {
   "cell_type": "code",
   "execution_count": null,
   "id": "24c2d7c1-f090-4168-a7ac-21839bf940e4",
   "metadata": {},
   "outputs": [],
   "source": [
    "df['predict'] = df['image'].apply(lambda x: modelo_carregado.predict([x])[0])\n",
    "correct = df.apply(lambda x: x['classification'] == x['predict'], axis=1)\n",
    "df[correct]"
   ]
  },
  {
   "cell_type": "code",
   "execution_count": null,
   "id": "8af532f4-e39d-41e6-b896-55fb0fa58508",
   "metadata": {},
   "outputs": [],
   "source": []
  }
 ],
 "metadata": {
  "kernelspec": {
   "display_name": "Python 3 (ipykernel)",
   "language": "python",
   "name": "python3"
  },
  "language_info": {
   "codemirror_mode": {
    "name": "ipython",
    "version": 3
   },
   "file_extension": ".py",
   "mimetype": "text/x-python",
   "name": "python",
   "nbconvert_exporter": "python",
   "pygments_lexer": "ipython3",
   "version": "3.10.12"
  }
 },
 "nbformat": 4,
 "nbformat_minor": 5
}
