{
 "cells": [
  {
   "cell_type": "markdown",
   "metadata": {},
   "source": [
    "Instalando e importando os requisitos"
   ]
  },
  {
   "cell_type": "code",
   "execution_count": null,
   "metadata": {},
   "outputs": [],
   "source": [
    "%pip install -r ./requirements.txt -q\n",
    "from app.modelo.resnet50 import Resnet50\n",
    "from app.modelo.svm import SVM\n",
    "from app.modelo.imagem_rgb import ImagemRGB\n",
    "import os\n",
    "import pandas\n",
    "import time\n",
    "import datetime"
   ]
  },
  {
   "cell_type": "markdown",
   "metadata": {},
   "source": [
    "Abrindo o DataFrame e setando o caminho da imagem de destino e carregando o modelo"
   ]
  },
  {
   "cell_type": "code",
   "execution_count": null,
   "metadata": {},
   "outputs": [],
   "source": [
    "# Carregando o arquivo CSV\n",
    "## Definindo o caminho do arquivo CSV para quando mudar de diretório não houver problemas\n",
    "if not 'csv_file_path' in locals(): # Evita definir o caminho do arquivo CSV duas vezes\n",
    "    csv_file_path = os.path.join(os.getcwd(), \"classifications.csv\")\n",
    "data_frame = pandas.read_csv(csv_file_path)\n",
    "\n",
    "# Definindo o diretório das imagens\n",
    "if not 'destination_image_dir' in locals(): # Evita definir o diretório das imagens duas vezes\n",
    "    destination_image_dir = os.path.join(os.getcwd(), \"dataset_converted\")\n",
    "\n",
    "# Carregando o modelo\n",
    "## Mudando o diretório para o diretório app para contornar erro ao importar a inteligência do modelo\n",
    "if not 'app' in os.getcwd(): # Evita mudar o diretório duas vezes\n",
    "    os.chdir('./app')\n",
    "modelo_resnet50 = Resnet50()\n",
    "modelo_svm = SVM()"
   ]
  },
  {
   "cell_type": "code",
   "execution_count": null,
   "metadata": {},
   "outputs": [],
   "source": [
    "data_frame"
   ]
  },
  {
   "cell_type": "markdown",
   "metadata": {},
   "source": [
    "Calculando o tempo"
   ]
  },
  {
   "cell_type": "code",
   "execution_count": null,
   "metadata": {},
   "outputs": [],
   "source": [
    "dados_tempo = []\n",
    "labels_tempo = ['Caminho', 'Algoritmo', 'Tempo', 'Classe']\n",
    "if not os.path.exists(destination_image_dir):\n",
    "    os.mkdir(destination_image_dir)\n",
    "indice = 0\n",
    "for _, row in data_frame.iterrows():\n",
    "    classe = row['bethesda_system']\n",
    "    diretorio_classe = os.path.join(destination_image_dir, classe)\n",
    "    if not os.path.exists(diretorio_classe):\n",
    "        os.mkdir(diretorio_classe)\n",
    "    \n",
    "    destination_image_path = os.path.join(diretorio_classe, \"{}.png\".format(row['cell_id']))\n",
    "    \n",
    "    if os.path.exists(destination_image_path):\n",
    "        for _ in range(10):\n",
    "            # Abrindo a imagem\n",
    "            imagem = ImagemRGB.from_file(destination_image_path)\n",
    "            \n",
    "            # Calculando o tempo do SVM\n",
    "            inicio = time.time_ns()\n",
    "            modelo_svm.predict(imagem)\n",
    "            fim = time.time_ns()\n",
    "            tempo_svm = (fim - inicio)/10**9\n",
    "            dados_tempo.append((destination_image_path, 'SVM', tempo_svm, classe))\n",
    "\n",
    "            # Calculando o tempo do Resnet50\n",
    "            inicio = time.time_ns()\n",
    "            modelo_resnet50.predict(imagem)\n",
    "            fim = time.time_ns()\n",
    "            tempo_resnet50 = (fim - inicio)/10**9\n",
    "            dados_tempo.append((destination_image_path, 'Resnet50', tempo_resnet50, classe))\n",
    "\n",
    "            tempo = pandas.DataFrame(dados_tempo, columns=labels_tempo)\n",
    "            tempo.to_csv(\"tempo_{}_{}.csv\".format(indice, datetime.datetime.now().strftime(\"%Y%m%d_%H%M%S\")))\n",
    "            indice = indice + 1\n"
   ]
  }
 ],
 "metadata": {
  "kernelspec": {
   "display_name": "venv",
   "language": "python",
   "name": "python3"
  },
  "language_info": {
   "codemirror_mode": {
    "name": "ipython",
    "version": 3
   },
   "file_extension": ".py",
   "mimetype": "text/x-python",
   "name": "python",
   "nbconvert_exporter": "python",
   "pygments_lexer": "ipython3",
   "version": "3.12.3"
  }
 },
 "nbformat": 4,
 "nbformat_minor": 2
}
