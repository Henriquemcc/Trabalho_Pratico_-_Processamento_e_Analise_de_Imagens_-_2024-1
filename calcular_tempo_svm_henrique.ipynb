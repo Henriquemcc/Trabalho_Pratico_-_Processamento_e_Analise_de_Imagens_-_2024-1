{
 "cells": [
  {
   "cell_type": "markdown",
   "metadata": {},
   "source": [
    "Instalando e importando os requisitos"
   ]
  },
  {
   "cell_type": "code",
   "execution_count": null,
   "metadata": {},
   "outputs": [],
   "source": [
    "%pip install -r ./requirements.txt -q\n",
    "%pip install seaborn -q\n",
    "from app.modelo.resnet50 import Resnet50\n",
    "from app.modelo.svm import SVM\n",
    "from app.modelo.imagem_rgb import ImagemRGB\n",
    "import os\n",
    "import pandas\n",
    "import time\n",
    "import datetime\n",
    "import matplotlib\n",
    "import matplotlib.pyplot\n",
    "import seaborn"
   ]
  },
  {
   "cell_type": "markdown",
   "metadata": {},
   "source": [
    "# Contando o tempo"
   ]
  },
  {
   "cell_type": "markdown",
   "metadata": {},
   "source": [
    "Abrindo o DataFrame e setando o caminho da imagem de destino e carregando o modelo"
   ]
  },
  {
   "cell_type": "code",
   "execution_count": null,
   "metadata": {},
   "outputs": [],
   "source": [
    "# Carregando o arquivo CSV\n",
    "## Definindo o caminho do arquivo CSV para quando mudar de diretório não houver problemas\n",
    "if not 'csv_file_path' in locals(): # Evita definir o caminho do arquivo CSV duas vezes\n",
    "    csv_file_path = os.path.join(os.getcwd(), \"classifications.csv\")\n",
    "data_frame = pandas.read_csv(csv_file_path)\n",
    "\n",
    "# Definindo o diretório das imagens\n",
    "if not 'destination_image_dir' in locals(): # Evita definir o diretório das imagens duas vezes\n",
    "    destination_image_dir = os.path.join(os.getcwd(), \"dataset_converted\")\n",
    "\n",
    "# Carregando o modelo\n",
    "## Mudando o diretório para o diretório app para contornar erro ao importar a inteligência do modelo\n",
    "if not 'app' in os.getcwd(): # Evita mudar o diretório duas vezes\n",
    "    os.chdir('./app')\n",
    "modelo_resnet50 = Resnet50()\n",
    "modelo_svm = SVM()"
   ]
  },
  {
   "cell_type": "code",
   "execution_count": null,
   "metadata": {},
   "outputs": [],
   "source": [
    "data_frame"
   ]
  },
  {
   "cell_type": "markdown",
   "metadata": {},
   "source": [
    "Calculando o tempo"
   ]
  },
  {
   "cell_type": "code",
   "execution_count": null,
   "metadata": {},
   "outputs": [],
   "source": [
    "dados_tempo = []\n",
    "labels_tempo = ['Caminho', 'Algoritmo', 'Tempo', 'Classe']\n",
    "if not os.path.exists(destination_image_dir):\n",
    "    os.mkdir(destination_image_dir)\n",
    "indice = 0\n",
    "for _, row in data_frame.iterrows():\n",
    "    classe = row['bethesda_system']\n",
    "    diretorio_classe = os.path.join(destination_image_dir, classe)\n",
    "    if not os.path.exists(diretorio_classe):\n",
    "        os.mkdir(diretorio_classe)\n",
    "    \n",
    "    destination_image_path = os.path.join(diretorio_classe, \"{}.png\".format(row['cell_id']))\n",
    "    \n",
    "    if os.path.exists(destination_image_path):\n",
    "        for _ in range(1):\n",
    "            # Abrindo a imagem\n",
    "            imagem = ImagemRGB.from_file(destination_image_path)\n",
    "            \n",
    "            # Calculando o tempo do SVM\n",
    "            inicio = time.time_ns()\n",
    "            modelo_svm.predict(imagem)\n",
    "            fim = time.time_ns()\n",
    "            tempo_svm = (fim - inicio)/10**9\n",
    "            dados_tempo.append((destination_image_path, 'SVM', tempo_svm, classe))\n",
    "\n",
    "            # Calculando o tempo do Resnet50\n",
    "            inicio = time.time_ns()\n",
    "            modelo_resnet50.predict(imagem)\n",
    "            fim = time.time_ns()\n",
    "            tempo_resnet50 = (fim - inicio)/10**9\n",
    "            dados_tempo.append((destination_image_path, 'Resnet50', tempo_resnet50, classe))\n",
    "            indice = indice + 1\n",
    "            print(indice, \"/\", len(data_frame))\n",
    "\n",
    "tempo = pandas.DataFrame(dados_tempo, columns=labels_tempo)\n",
    "tempo.to_csv(\"tempo_{}_{}.csv\".format(indice, datetime.datetime.now().strftime(\"%Y%m%d_%H%M%S\")))\n",
    "            \n"
   ]
  },
  {
   "cell_type": "markdown",
   "metadata": {},
   "source": [
    "# Gerando gráficos"
   ]
  },
  {
   "cell_type": "code",
   "execution_count": null,
   "metadata": {},
   "outputs": [],
   "source": [
    "tempo = pandas.read_csv(\"tempo_5581_20240615_173954.csv\")"
   ]
  },
  {
   "cell_type": "code",
   "execution_count": null,
   "metadata": {},
   "outputs": [],
   "source": [
    "tempo"
   ]
  },
  {
   "cell_type": "markdown",
   "metadata": {},
   "source": [
    "Gerando gráfico de barra comparando o ResNet50 e o SVM"
   ]
  },
  {
   "cell_type": "code",
   "execution_count": null,
   "metadata": {},
   "outputs": [],
   "source": [
    "dados_media_algoritmo_tempo_execucao = {}\n",
    "for index, row in tempo.iterrows():\n",
    "    if not row['Algoritmo'] in dados_media_algoritmo_tempo_execucao:\n",
    "        dados_media_algoritmo_tempo_execucao[row['Algoritmo']] = []\n",
    "    else:\n",
    "        dados_media_algoritmo_tempo_execucao[row['Algoritmo']].append(row['Tempo'])\n",
    "\n",
    "dados_grafico_algoritmo_tempo_execucao = {\n",
    "    'Algoritmo': [],\n",
    "    'Tempo': []\n",
    "}\n",
    "\n",
    "for algoritmo, tempo_ in dados_media_algoritmo_tempo_execucao.items():\n",
    "    dados_grafico_algoritmo_tempo_execucao['Algoritmo'].append(algoritmo)\n",
    "    dados_grafico_algoritmo_tempo_execucao['Tempo'].append(sum(tempo_)/len(tempo_))"
   ]
  },
  {
   "cell_type": "code",
   "execution_count": null,
   "metadata": {},
   "outputs": [],
   "source": [
    "matplotlib.pyplot.figure()\n",
    "matplotlib.pyplot.bar(dados_grafico_algoritmo_tempo_execucao['Algoritmo'], dados_grafico_algoritmo_tempo_execucao['Tempo'])\n",
    "matplotlib.pyplot.title('Tempo de execução médio por algoritmo')"
   ]
  },
  {
   "cell_type": "markdown",
   "metadata": {},
   "source": [
    "Gerando gráfico comparando o ResNet50 e o SVM por classe"
   ]
  },
  {
   "cell_type": "code",
   "execution_count": null,
   "metadata": {},
   "outputs": [],
   "source": [
    "dados_grafico_algoritmo_classe_tempo_execucao = {}\n",
    "for index, row in tempo.iterrows():\n",
    "    if not (row['Algoritmo'], row['Classe']) in dados_grafico_algoritmo_classe_tempo_execucao:\n",
    "        dados_grafico_algoritmo_classe_tempo_execucao[(row['Algoritmo'], row['Classe'])] = []\n",
    "    else:\n",
    "        dados_grafico_algoritmo_classe_tempo_execucao[(row['Algoritmo'], row['Classe'])].append(row['Tempo'])\n",
    "\n",
    "dados_grafico_algoritmo_classe_tempo_execucao_media = {\n",
    "    'Algoritmo': [],\n",
    "    'Classe': [],\n",
    "    'Tempo': []\n",
    "}\n",
    "\n",
    "for (algoritmo, classe), tempo_ in dados_grafico_algoritmo_classe_tempo_execucao.items():\n",
    "    dados_grafico_algoritmo_classe_tempo_execucao_media['Algoritmo'].append(algoritmo)\n",
    "    dados_grafico_algoritmo_classe_tempo_execucao_media['Classe'].append(classe)\n",
    "    dados_grafico_algoritmo_classe_tempo_execucao_media['Tempo'].append(sum(tempo_)/len(tempo_))"
   ]
  },
  {
   "cell_type": "code",
   "execution_count": null,
   "metadata": {},
   "outputs": [],
   "source": [
    "matplotlib.pyplot.figure()\n",
    "seaborn.barplot(x='Classe', y='Tempo', hue='Algoritmo', data=dados_grafico_algoritmo_classe_tempo_execucao_media)\n",
    "matplotlib.pyplot.title('Tempo de execução por classe e algoritmo')\n",
    "matplotlib.pyplot.xlabel('Classe')\n",
    "matplotlib.pyplot.xticks(rotation=-90)\n",
    "matplotlib.pyplot.ylabel('Tempo de execução (s)')\n",
    "matplotlib.pyplot.legend(title='Algoritmo')\n",
    "matplotlib.pyplot.show()"
   ]
  },
  {
   "cell_type": "code",
   "execution_count": null,
   "metadata": {},
   "outputs": [],
   "source": []
  }
 ],
 "metadata": {
  "kernelspec": {
   "display_name": "venv",
   "language": "python",
   "name": "python3"
  },
  "language_info": {
   "codemirror_mode": {
    "name": "ipython",
    "version": 3
   },
   "file_extension": ".py",
   "mimetype": "text/x-python",
   "name": "python",
   "nbconvert_exporter": "python",
   "pygments_lexer": "ipython3",
   "version": "3.12.3"
  }
 },
 "nbformat": 4,
 "nbformat_minor": 2
}
